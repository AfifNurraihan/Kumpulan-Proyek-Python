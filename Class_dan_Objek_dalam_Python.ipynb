{
  "nbformat": 4,
  "nbformat_minor": 0,
  "metadata": {
    "colab": {
      "provenance": [],
      "authorship_tag": "ABX9TyM/u4SvSYOHCu9v5HTcrqZT",
      "include_colab_link": true
    },
    "kernelspec": {
      "name": "python3",
      "display_name": "Python 3"
    },
    "language_info": {
      "name": "python"
    }
  },
  "cells": [
    {
      "cell_type": "markdown",
      "metadata": {
        "id": "view-in-github",
        "colab_type": "text"
      },
      "source": [
        "<a href=\"https://colab.research.google.com/github/AfifNurraihan/Kumpulan-Proyek-Python/blob/main/Class_dan_Objek_dalam_Python.ipynb\" target=\"_parent\"><img src=\"https://colab.research.google.com/assets/colab-badge.svg\" alt=\"Open In Colab\"/></a>"
      ]
    },
    {
      "cell_type": "markdown",
      "source": [
        "#**Class dan Objek dalam Python**"
      ],
      "metadata": {
        "id": "ynAz5vLFbKP5"
      }
    },
    {
      "cell_type": "code",
      "execution_count": 3,
      "metadata": {
        "colab": {
          "base_uri": "https://localhost:8080/"
        },
        "id": "HWB5AC7LbIN1",
        "outputId": "7e3d956d-6480-4d3a-b9c6-7f29b0174e3b"
      },
      "outputs": [
        {
          "output_type": "stream",
          "name": "stdout",
          "text": [
            "PT. Infomedia Nusantara\n",
            "PT. Nutrifood\n",
            "PT. Nutrifood\n"
          ]
        }
      ],
      "source": [
        "# Definisikan class Karyawan\n",
        "class Karyawan:\n",
        "    nama_perusahaan = 'PT. Infomedia Nusantara'\n",
        "\n",
        "# Inisiasi object yang dinyatakan dalam variabel aksara dan senja\n",
        "naufal = Karyawan()\n",
        "maripal = Karyawan()\n",
        "\n",
        "# Cetak nama perusahaan melalui penggunaan keyword __class__\n",
        "# pada class attribute nama_perusahaan\n",
        "print(naufal.__class__.nama_perusahaan)\n",
        "\n",
        "# Ubah nama_perusahaan menjadi \"PT. Nutrifood\"\n",
        "naufal.__class__.nama_perusahaan = 'PT. Nutrifood'\n",
        "\n",
        "# Cetak nama_perusahaan objek aksara dan senja\n",
        "print(naufal.__class__.nama_perusahaan)\n",
        "print(maripal.__class__.nama_perusahaan)"
      ]
    },
    {
      "cell_type": "code",
      "source": [
        "# Definisikan class Karyawan\n",
        "class Karyawan:\n",
        "    nama_perusahaan = 'PT. Infomedia Nusantara'\n",
        "    def __init__(self, nama, usia, pendapatan):\n",
        "        self.nama = nama\n",
        "        self.usia = usia\n",
        "        self.pendapatan = pendapatan\n",
        "\n",
        "# Buat object bernama aksara dan senja\n",
        "naufal = Karyawan('Naufal', 22, 8500000)\n",
        "maripal = Karyawan('Maripal', 27, 12500000)\n",
        "\n",
        "# Cetak objek bernama aksara\n",
        "print(naufal.nama + ', Usia: ' + str(naufal.usia) + ', Pendapatan ' + str(naufal.pendapatan))\n",
        "\n",
        "# Cetak objek bernama senja\n",
        "print(maripal.nama + ', Usia: ' + str(maripal.usia) + ', Pendapatan ' + str(maripal.pendapatan))\n"
      ],
      "metadata": {
        "colab": {
          "base_uri": "https://localhost:8080/"
        },
        "id": "7hT6n3rjbKBN",
        "outputId": "d8996e50-b773-43bd-a7c8-ecc0c1d88199"
      },
      "execution_count": 6,
      "outputs": [
        {
          "output_type": "stream",
          "name": "stdout",
          "text": [
            "Naufal, Usia: 22, Pendapatan 8500000\n",
            "Maripal, Usia: 27, Pendapatan 12500000\n"
          ]
        }
      ]
    },
    {
      "cell_type": "code",
      "source": [
        "class Karyawan: \n",
        "    nama_perusahaan = 'ABC'\n",
        "    def __init__(self, nama, usia, pendapatan):\n",
        "        self.nama = nama\n",
        "        self.usia = usia\n",
        "        self.pendapatan = pendapatan\n",
        "        if usia > 30:\n",
        "            self.pendapatan += 1500000\n",
        "\n",
        "karyawan_1 = Karyawan('Dyiyah', 33, 7500000)\n",
        "karyawan_2 = Karyawan('Dinda', 25, 8000000)\n",
        "\n",
        "total_pengeluaran = karyawan_1.pendapatan + karyawan_2.pendapatan \n",
        "print(total_pengeluaran)"
      ],
      "metadata": {
        "colab": {
          "base_uri": "https://localhost:8080/"
        },
        "id": "DCDw6DQuh0lu",
        "outputId": "5d8de122-1dfd-4a9f-e1e3-b48374f28991"
      },
      "execution_count": 8,
      "outputs": [
        {
          "output_type": "stream",
          "name": "stdout",
          "text": [
            "17000000\n"
          ]
        }
      ]
    },
    {
      "cell_type": "code",
      "source": [
        "class Karyawan:\n",
        "    nama_perusahaan = 'PT. Infomedia Nusantara'\n",
        "    tunjangan_transportasi = 500000\n",
        "    def __init__(self, nama, usia, pendapatan):\n",
        "        self.nama = nama\n",
        "        self.usia = usia\n",
        "        self.pendapatan = pendapatan\n",
        "\n",
        "karyawan_1 = Karyawan('Naufal', 35, 5000000)\n",
        "karyawan_2 = Karyawan('Maripal', 30, 5000000)\n",
        "karyawan_1.__class__.nama_perusahaan = 1000000\n",
        "\n",
        "total_pengeluaran = karyawan_1.__class__.tunjangan_transportasi\n",
        "total_pengeluaran += karyawan_2. __class__.tunjangan_transportasi\n",
        "total_pengeluaran += karyawan_1.pendapatan\n",
        "total_pengeluaran += karyawan_2.pendapatan\n",
        "print(total_pengeluaran)"
      ],
      "metadata": {
        "colab": {
          "base_uri": "https://localhost:8080/"
        },
        "id": "euOjq7b2kFGW",
        "outputId": "dee83b16-6b78-4792-dcaa-37252cf0b1d9"
      },
      "execution_count": 9,
      "outputs": [
        {
          "output_type": "stream",
          "name": "stdout",
          "text": [
            "11000000\n"
          ]
        }
      ]
    },
    {
      "cell_type": "code",
      "source": [
        "# Definisikan class Karyawan berikut dengan attribut dan fungsinya\n",
        "class Karyawan:\n",
        "    nama_perusahaan = 'PT. Infomedia Nusantara'\n",
        "    insentif_lembur = 250000\n",
        "    def __init__(self, nama, usia, pendapatan):\n",
        "        self.nama = nama\n",
        "        self.usia = usia\n",
        "        self.pendapatan = pendapatan\n",
        "        self.pendapatan_tambahan = 0\n",
        "    def lembur(self):\n",
        "        self.pendapatan_tambahan += self.insentif_lembur\n",
        "    def tambahan_proyek(self, insentif_proyek):\n",
        "    \tself.pendapatan_tambahan += insentif_proyek\n",
        "    def total_pendapatan(self):\n",
        "    \treturn self.pendapatan + self.pendapatan_tambahan\n",
        "\n",
        "# Buat object dari karwayan bernama Naufal dan Maripal\n",
        "naufal = Karyawan('Naufal', 25, 8500000)\n",
        "maripal = Karyawan('Maripal', 28, 12500000)\n",
        "\n",
        "# Aksara melaksanakan lembur\n",
        "naufal.lembur()\n",
        "\n",
        "# Senja memiliki proyek tambahan\n",
        "maripal.tambahan_proyek(2500000)\n",
        "\n",
        "# Cetak pendapatan total Aksara dan Senja\n",
        "print('Pendapatan Total Aksara: ' + str(naufal.total_pendapatan()))\n",
        "print('Pendapatan Total Senja: ' +str(maripal.total_pendapatan()))"
      ],
      "metadata": {
        "colab": {
          "base_uri": "https://localhost:8080/"
        },
        "id": "Ram3yBuGl8cU",
        "outputId": "d5ef623d-2dde-4fbd-96e5-0ddf1cb59da2"
      },
      "execution_count": 12,
      "outputs": [
        {
          "output_type": "stream",
          "name": "stdout",
          "text": [
            "Pendapatan Total Aksara: 8750000\n",
            "Pendapatan Total Senja: 15000000\n"
          ]
        }
      ]
    },
    {
      "cell_type": "code",
      "source": [
        "# Definisikan class Karyawan\n",
        "class Karyawan:\n",
        "    def __init__(self, nama, usia, pendapatan, insentif_lembur): \n",
        "        self.nama = nama\n",
        "        self.usia = usia \n",
        "        self.pendapatan = pendapatan \n",
        "        self.pendapatan_tambahan = 0\n",
        "        self.insentif_lembur = insentif_lembur \n",
        "    def lembur(self):\n",
        "        self.pendapatan_tambahan += self.insentif_lembur \n",
        "    def tambahan_proyek(self, jumlah_tambahan):\n",
        "        self.pendapatan_tambahan += jumlah_tambahan \n",
        "    def total_pendapatan(self):\n",
        "        return self.pendapatan + self.pendapatan_tambahan \n",
        "# Definisikan class Perusahaan\n",
        "class Perusahaan:\n",
        "    def __init__(self, nama, alamat, nomor_telepon): \n",
        "        self.nama = nama\n",
        "        self.alamat = alamat \n",
        "        self.nomor_telepon = nomor_telepon\n",
        "        self.list_karyawan = []\n",
        "    def aktifkan_karyawan(self, karyawan): \n",
        "        self.list_karyawan.append(karyawan)\n",
        "    def nonaktifkan_karyawan(self, nama_karyawan): \n",
        "        karyawan_nonaktif = None\n",
        "        for karyawan in self.list_karyawan:\n",
        "            if karyawan.nama == nama_karyawan: \n",
        "                karyawan_nonaktif = karyawan \n",
        "                break\n",
        "        if karyawan_nonaktif is not None: \n",
        "            self.list_karyawan.remove(karyawan_nonaktif)"
      ],
      "metadata": {
        "id": "4dA4vVa4omGi"
      },
      "execution_count": 13,
      "outputs": []
    },
    {
      "cell_type": "code",
      "source": [
        "# Definisikan perusahaan\n",
        "perusahaan = Perusahaan('PT. Infomedia Nusantara', 'Jl. Tegalrejo, Blok 10', '(021) 9520556')\n",
        "# Definisikan nama-nama karyawan\n",
        "karyawan_1 = Karyawan('Linda', 25, 8500000, 100000)\n",
        "karyawan_2 = Karyawan('April', 28, 12000000, 150000)\n",
        "karyawan_3 = Karyawan('Aulia', 30, 15000000, 200000)\n",
        "# Aktifkan karyawan di perusahaan ABC\n",
        "perusahaan.aktifkan_karyawan(karyawan_1)\n",
        "perusahaan.aktifkan_karyawan(karyawan_2) \n",
        "perusahaan.aktifkan_karyawan(karyawan_3)"
      ],
      "metadata": {
        "id": "sGsj0SCArANC"
      },
      "execution_count": 16,
      "outputs": []
    }
  ]
}