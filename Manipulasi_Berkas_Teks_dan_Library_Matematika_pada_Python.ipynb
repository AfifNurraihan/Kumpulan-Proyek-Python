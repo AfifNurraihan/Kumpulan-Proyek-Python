{
  "nbformat": 4,
  "nbformat_minor": 0,
  "metadata": {
    "colab": {
      "provenance": [],
      "authorship_tag": "ABX9TyNtsowymiTbTmc2ZkNeqAe2",
      "include_colab_link": true
    },
    "kernelspec": {
      "name": "python3",
      "display_name": "Python 3"
    },
    "language_info": {
      "name": "python"
    }
  },
  "cells": [
    {
      "cell_type": "markdown",
      "metadata": {
        "id": "view-in-github",
        "colab_type": "text"
      },
      "source": [
        "<a href=\"https://colab.research.google.com/github/AfifNurraihan/Kumpulan-Proyek-Python/blob/main/Manipulasi_Berkas_Teks_dan_Library_Matematika_pada_Python.ipynb\" target=\"_parent\"><img src=\"https://colab.research.google.com/assets/colab-badge.svg\" alt=\"Open In Colab\"/></a>"
      ]
    },
    {
      "cell_type": "markdown",
      "source": [
        "#**Membaca Berkas Teks – Part 1**"
      ],
      "metadata": {
        "id": "o03hqyHX_IiG"
      }
    },
    {
      "cell_type": "code",
      "source": [
        "import requests\n",
        "url = \"https://storage.googleapis.com/dqlab-dataset/hello.txt\"\n",
        "response = requests.get(url)\n",
        "\n",
        "# Cetak kode status dari response\n",
        "print(response)\n",
        "\n",
        "# Cetak isi file hello.txt menggunakan method response.iter_lines()\n",
        "print(\"\\n>> Cetak isi file hello.txt menggunakan method response.iter_lines():\")\n",
        "for baris in response.iter_lines():\n",
        "\tprint(baris)"
      ],
      "metadata": {
        "colab": {
          "base_uri": "https://localhost:8080/"
        },
        "id": "secfLWo8_Esg",
        "outputId": "bfa60362-2d59-4241-b0f3-8481bb697fa2"
      },
      "execution_count": 2,
      "outputs": [
        {
          "output_type": "stream",
          "name": "stdout",
          "text": [
            "<Response [200]>\n",
            "\n",
            ">> Cetak isi file hello.txt menggunakan method response.iter_lines():\n",
            "b'Kita sedang belajar Python'\n",
            "b'Tepatnya belajar memanipulasi berkas teks'\n",
            "b'Memanipulasi berkas dengan Python sangatlah mudah!'\n"
          ]
        }
      ]
    },
    {
      "cell_type": "code",
      "source": [
        "# Menulis ke file hello.txt\n",
        "file = open(\"hello.txt\", \"w\")\n",
        "file.write(\"Sekarang kita belajar menulis dengan menggunakan Python\")\n",
        "file.write(\"Menulis konten file dengan mode w (write).\")\n",
        "file.close()"
      ],
      "metadata": {
        "id": "ZCH8TOGZ_eGo"
      },
      "execution_count": 5,
      "outputs": []
    },
    {
      "cell_type": "code",
      "source": [
        "# Menulis ke file dengan mode append\n",
        "file = open(\"hello.txt\", \"a\")\n",
        "file.writelines([\n",
        "\"Sekarang kita belajar menulis dengan menggunakan Python\", \n",
        "\"Menulis konten file dengan mode a (append).\"\n",
        "])\n",
        "file.close()"
      ],
      "metadata": {
        "id": "842VxVKDBlQR"
      },
      "execution_count": 10,
      "outputs": []
    },
    {
      "cell_type": "code",
      "source": [
        "file = open(\"hello.txt\",\"w\")\n",
        "file.writelines([\"Halo\\n\", \"Belajar Python\\n\", \"Menyenangkan!\\n\"])\n",
        "file.close()\n",
        "file = open(\"hello.txt\",\"r\")\n",
        "for line in file:\n",
        "    print(line)\n",
        "    break"
      ],
      "metadata": {
        "colab": {
          "base_uri": "https://localhost:8080/"
        },
        "id": "nkdirmAhEEBP",
        "outputId": "f53d093a-5824-474b-be70-dbc8e79e682d"
      },
      "execution_count": 13,
      "outputs": [
        {
          "output_type": "stream",
          "name": "stdout",
          "text": [
            "Halo\n",
            "\n"
          ]
        }
      ]
    },
    {
      "cell_type": "code",
      "source": [
        "file = open(\"hello.txt\",\"w\")\n",
        "file.writelines([\"Halo\", \"Belajar Python\", \"Menyenangkan!\"])\n",
        "file.close()\n",
        "file = open(\"hello.txt\",\"w\")\n",
        "file.writelines([\"Menulis ke dalam file\\n\"])\n",
        "file.writelines([\"menggunakan Python\"])\n",
        "file = open(\"hello.txt\",\"r\")\n",
        "for line in file:\n",
        "    print(line)"
      ],
      "metadata": {
        "colab": {
          "base_uri": "https://localhost:8080/"
        },
        "id": "GcAGsr1KEYvB",
        "outputId": "888c0ffc-0acc-4cfe-a4a1-abc9a2f94453"
      },
      "execution_count": 16,
      "outputs": [
        {
          "output_type": "stream",
          "name": "stdout",
          "text": [
            "Menulis ke dalam file\n",
            "\n",
            "menggunakan Python\n"
          ]
        }
      ]
    },
    {
      "cell_type": "markdown",
      "source": [
        "#**Library Matematika pada Python**"
      ],
      "metadata": {
        "id": "k6gMS5T4E31I"
      }
    },
    {
      "cell_type": "code",
      "source": [
        "# Import library math\n",
        "import math\n",
        "\n",
        "# Fungsi math.ceil() -> Menerima input berupa bilangan dan mengembalikan pembulatan ke atas untuk bilangan input.\n",
        "print(\">>> Fungsi math.ceil()\")\n",
        "x = 10.32\n",
        "y = 13.87\n",
        "x_ceil = math.ceil(x)\n",
        "y_ceil = math.ceil(y)\n",
        "print(x_ceil)\n",
        "print(y_ceil)\n",
        "\n",
        "# Fungsi math.floor() -> Menerima input berupa bilangan dan mengembalikan hasil pembulatan ke bawah untuk bilangan input.\n",
        "print(\">>> Fungsi math.floor()\")\n",
        "x_floor = math.floor(x)\n",
        "y_floor = math.floor(y)\n",
        "print(x_floor)\n",
        "print(y_floor)\n",
        "\n",
        "# Fungsi math.fabs() -> Menerima input berupa bilangan dan mengembalikan hasil absolut dari bilangan input.\n",
        "print(\">>> Fungsi math.fabs()\")\n",
        "x = 10.32\n",
        "y = -13.87\n",
        "x = math.fabs(x)\n",
        "y = math.fabs(y)\n",
        "print(x)\n",
        "print(y)\n",
        "\n",
        "# Fungsi math.factorial() -> Menerima input berupa bilangan dan mengembalikan hasil faktorial dari bilangan input\n",
        "print(\">>> Fungsi math.factorial()\")\n",
        "x_factorial = math.factorial(5)\n",
        "print(x_factorial)\n",
        "\n",
        "# Fungsi math.fsum() -> Menerima input berupa tipe data collection (tuple, list, etc.) dan mengembalikan hasil penjumlahan setiap elemennya.\n",
        "print(\">>> Fungsi math.fsum()\")\n",
        "x = [1, 2, 3, 4, 5, 6, -6, -5, -4]\n",
        "total = math.fsum(x)\n",
        "print(total)"
      ],
      "metadata": {
        "colab": {
          "base_uri": "https://localhost:8080/"
        },
        "id": "2up9jgZCEMTQ",
        "outputId": "e5ea33eb-6334-49fd-ceeb-cf349aeb0c57"
      },
      "execution_count": 17,
      "outputs": [
        {
          "output_type": "stream",
          "name": "stdout",
          "text": [
            ">>> Fungsi math.ceil()\n",
            "11\n",
            "14\n",
            ">>> Fungsi math.floor()\n",
            "10\n",
            "13\n",
            ">>> Fungsi math.fabs()\n",
            "10.32\n",
            "13.87\n",
            ">>> Fungsi math.factorial()\n",
            "120\n",
            ">>> Fungsi math.fsum()\n",
            "6.0\n"
          ]
        }
      ]
    },
    {
      "cell_type": "code",
      "source": [
        "# Import library math\n",
        "import math\n",
        "\n",
        "# Fungsi math.log() -> Menerima input berupa dua buah bilangan (asumsikan x dan y) dan mengembalikan sebuah bilangan (z) \n",
        "# di mana z merupakan hasil log basis y dari x (atau dengan kata lain x merupakan hasil pemangkatan dari z terhadap y)\n",
        "print(\">>> Fungsi math.log()\")\n",
        "# x = log basis 2 dari 8\n",
        "x = math.log(8, 2)\n",
        "# y = log basis 3 dari 81\n",
        "y = math.log(81, 3)\n",
        "# z = log basis 10 dari 10000\n",
        "z = math.log(10000,10)\n",
        "print(x)\n",
        "print(y)\n",
        "print(z)\n",
        "\n",
        "# Fungsi math.sqrt() -> Menerima input berupa sebuah bilangan dan mengembalikan hasil akar pangkat dua (akar kuadrat) dari bilangan tersebut\n",
        "print(\">>> Fungsi math.sqrt()\")\n",
        "# akar kuadrat dari 100\n",
        "x = math.sqrt(100)\n",
        "print(x)\n",
        "# akar kuadrat dari 2\n",
        "y = math.sqrt(2)\n",
        "print(y)\n",
        "\n",
        "# Fungsi math.copysign() ->\tMenerima input berupa dua buah bilangan dan mengembalikan bilangan pertama sesuai dengan tanda yang dimiliki oleh bilangan kedua\n",
        "print(\">>> Fungsi math.copysign()\")\n",
        "x = 10.32\n",
        "y = -13.87\n",
        "z = -15\n",
        "x = math.copysign(x, z)\n",
        "y = math.copysign(y, z)\n",
        "z = math.copysign(z, 10)\n",
        "print(x)\n",
        "print(y)\n",
        "print(z)"
      ],
      "metadata": {
        "colab": {
          "base_uri": "https://localhost:8080/"
        },
        "id": "HsLZHryDI_Pj",
        "outputId": "58d5b46b-43c2-4605-fa10-6fabfbe15cc0"
      },
      "execution_count": 18,
      "outputs": [
        {
          "output_type": "stream",
          "name": "stdout",
          "text": [
            ">>> Fungsi math.log()\n",
            "3.0\n",
            "4.0\n",
            "4.0\n",
            ">>> Fungsi math.sqrt()\n",
            "10.0\n",
            "1.4142135623730951\n",
            ">>> Fungsi math.copysign()\n",
            "-10.32\n",
            "-13.87\n",
            "15.0\n"
          ]
        }
      ]
    },
    {
      "cell_type": "code",
      "source": [
        "import math\n",
        "x = [2.22,-3.33,4.44,-5.55]\n",
        "total = 0\n",
        "for i in x:\n",
        "    total += math.ceil(i)\n",
        "print(total)"
      ],
      "metadata": {
        "colab": {
          "base_uri": "https://localhost:8080/"
        },
        "id": "jnqig_6uME__",
        "outputId": "ab9c4e0d-4df8-40a5-b687-a452b1a6313f"
      },
      "execution_count": 19,
      "outputs": [
        {
          "output_type": "stream",
          "name": "stdout",
          "text": [
            "0\n"
          ]
        }
      ]
    },
    {
      "cell_type": "code",
      "source": [
        "import requests\n",
        "from contextlib import closing\n",
        "import csv\n",
        "# STEP 1:\n",
        "\n",
        "# Baca file \"harga_rumah.txt\"\n",
        "url = \"https://storage.googleapis.com/dqlab-dataset/harga_rumah.txt\"\n",
        "data_harga_rumah = []\n",
        "with closing(requests.get(url, stream=True)) as r:\n",
        "    f = (line.decode('utf-8') for line in r.iter_lines())\n",
        "    data_harga_rumah = [row for row in csv.reader(f)]\n",
        "\n",
        "# Buat list of dict dengan nama harga rumah\n",
        "key_harga_rumah = data_harga_rumah[0]\n",
        "harga_rumah = []\n",
        "for baris_harga_rumah in data_harga_rumah[1:]:\n",
        "\tdict_harga_rumah = dict()\n",
        "\tfor i in range(len(baris_harga_rumah)):\n",
        "\t\tdict_harga_rumah[key_harga_rumah[i]] = baris_harga_rumah[i]\n",
        "\tharga_rumah.append(dict_harga_rumah)\n",
        "print(harga_rumah)\n",
        "\n",
        "# STEP 2:\n",
        "\n",
        "# Buat fungsi  get_all_specified_attribute yang menerima parameter list_of_dictionary \n",
        "# (tipe data list yang berisikan sekumpulan tipe data dictionary) dan specified_key \n",
        "# (tipe data string). Fungsi akan mengembalikan sebuah list yang berisikan seluruh \n",
        "# atribut dengan kunci (key) specified_key. \n",
        "def get_all_specified_attributes(list_of_dictionary, specified_key):\n",
        "\tlist_attributes = []\n",
        "\tfor data in list_of_dictionary:\n",
        "\t\tattribute = data[specified_key]\n",
        "\t\tlist_attributes.append(attribute)\n",
        "\treturn list_attributes\n",
        "\n",
        "# STEP 3:\n",
        "\n",
        "# Buat fungsi fungsi min_value yang menerima parameter list_attributes (berupa \n",
        "# tipe data list) dan mengembalikan nilai terkecil dalam list_attributes \n",
        "def min_value(list_attributes):\n",
        "\tmin_attribute = 9999\n",
        "\tfor attr in list_attributes:\n",
        "\t\tif int(attr) < min_attribute:\n",
        "\t\t\tmin_attribute = int(attr)\n",
        "\treturn min_attribute\n",
        "\n",
        "# Buat fungsi dan max_value yang menerima parameter list_attribute dan \n",
        "# mengembalikan nilai terbesar dalam list_attributes.\t\n",
        "def max_value(list_attributes):\n",
        "\tmax_attribute = -9999\n",
        "\tfor attr in list_attributes:\n",
        "\t\tif int(attr) > max_attribute:\n",
        "\t\t\tmax_attribute = int(attr)\n",
        "\treturn max_attribute\n",
        "\n",
        "# STEP 4:\n",
        "\n",
        "# Buat fungsi transform_attribute yang menerima parameter attr (sebuah \n",
        "# bilangan), max_attr (sebuah bilangan) dan min_attr (sebuah bilangan) \n",
        "# yang mengembalikan nilai transformasi dari sebuah attribute.\n",
        "def transform_attribute(attr, max_attr, min_attr):\n",
        "\tnilai_transformasi = (attr - min_attr) / (max_attr - min_attr)\n",
        "\treturn nilai_transformasi\n",
        "\n",
        "# STEP 5:\n",
        "\n",
        "# Buat fungsi data_transformation yang menerima parameter list_of_dictionary \n",
        "# (sebuah list yang berisikan tipe data dictionary) dan list_attribute_names \n",
        "# (sebuah list yang berisikan tipe data string) mengembalikan hasil \n",
        "# transformasi data dari list_of_dictionary berdasarkan list_attribute_names \n",
        "# dan attr_info telah dispesifikasikan.\n",
        "def data_transformation(list_of_dictionary, list_attribute_names):\n",
        "\tattr_info = {}\n",
        "\tfor attr_name in list_attribute_names:\n",
        "\t\tspecified_attributes = get_all_specified_attributes(list_of_dictionary, attr_name)\n",
        "\t\tmax_attr = max_value(specified_attributes)\n",
        "\t\tmin_attr = min_value(specified_attributes)\n",
        "\t\tattr_info[attr_name] = {'max': max_attr, 'min': min_attr}\n",
        "\t\tdata_idx = 0\n",
        "\t\twhile(data_idx < len(list_of_dictionary)):\n",
        "\t\t\tlist_of_dictionary[data_idx][attr_name] = transform_attribute(int(list_of_dictionary[data_idx][attr_name]), max_attr, min_attr)\n",
        "\t\t\tdata_idx += 1\n",
        "\treturn list_of_dictionary, attr_info\n",
        "\n",
        "# STEP 6:\n",
        "\n",
        "# Berdasarkan data baru dan attr_info ini, buat fungsi transform_data yang\n",
        "# menerima parameter data dan attr_info dan mengembalikan nilai atribut \n",
        "# dari data baru yang telah ditransformasikan.\n",
        "def transform_data(data, attr_info):\n",
        "\tfor key_name in data.keys():\n",
        "\t\tdata[key_name] = (data[key_name] - attr_info[key_name]['min']) / (\n",
        "\t\t                  attr_info[key_name]['max'] - attr_info[key_name]['min'])\n",
        "\treturn data\n",
        "\n",
        "# STEP 7:\n",
        "\n",
        "# Buat fungsi yang digunakan untuk sistem prediksi harga berdasarkan \n",
        "# nilai kemiripan atribut!\n",
        "def abs_value(value):\n",
        "\tif value < 0:\n",
        "\t\treturn -value\n",
        "\telse:\n",
        "\t\treturn value\n",
        "def price_based_on_similarity(data, list_of_data):\n",
        "\tprediksi_harga = 0\n",
        "\tperbedaan_terkecil = 999\n",
        "\tfor data_point in list_of_data:\n",
        "\t\tperbedaan= abs_value(data['tanah'] - data_point['tanah'])\n",
        "\t\tperbedaan+= abs_value(data['bangunan'] - data_point['bangunan'])\n",
        "\t\tperbedaan+= abs_value(data['jarak_ke_pusat'] - data_point['jarak_ke_pusat'])\n",
        "\t\tif perbedaan < perbedaan_terkecil:\n",
        "\t\t\tprediksi_harga = data_point['harga']\n",
        "\t\t\tperbedaan_terkecil = perbedaan\n",
        "\treturn prediksi_harga\n",
        "  \n",
        "# STEP 8:\n",
        "# Hitung harga rumah yang telah ditransformasikan ke dalam variabel \n",
        "# harga_rumah berikut dengan atributnya attr_info\n",
        "harga_rumah, attr_info = data_transformation(harga_rumah,\n",
        "                                             ['tanah','bangunan','jarak_ke_pusat'])\n",
        "# Gunakan variabel data untuk memprediksi harga rumah\n",
        "data = {'tanah': 110, 'bangunan': 80, 'jarak_ke_pusat': 35}\n",
        "# Transformasikan data tersebut dengan dengan menggunakan attr_info yang telah \n",
        "# diperoleh yang kembali disimpan ke variabel data.\n",
        "data = transform_data(data, attr_info)\n",
        "# Hitunglah prediksi harga dari variabel data tersebut.\n",
        "harga = price_based_on_similarity(data, harga_rumah)\n",
        "print(\"Prediksi harga rumah: \", harga)"
      ],
      "metadata": {
        "colab": {
          "base_uri": "https://localhost:8080/"
        },
        "id": "byQHXNdBMGI6",
        "outputId": "98cd8ea8-b6e1-406e-a11c-54c56ff4d911"
      },
      "execution_count": 20,
      "outputs": [
        {
          "output_type": "stream",
          "name": "stdout",
          "text": [
            "[{'tanah': '70', 'bangunan': '50', 'jarak_ke_pusat': '15', 'harga': '500'}, {'tanah': '70', 'bangunan': '60', 'jarak_ke_pusat': '30', 'harga': '400'}, {'tanah': '70', 'bangunan': '60', 'jarak_ke_pusat': '55', 'harga': '300'}, {'tanah': '100', 'bangunan': '50', 'jarak_ke_pusat': '30', 'harga': '700'}, {'tanah': '100', 'bangunan': '70', 'jarak_ke_pusat': '25', 'harga': '1000'}, {'tanah': '100', 'bangunan': '70', 'jarak_ke_pusat': '50', 'harga': '650'}, {'tanah': '120', 'bangunan': '100', 'jarak_ke_pusat': '20', 'harga': '2000'}, {'tanah': '120', 'bangunan': '80', 'jarak_ke_pusat': '50', 'harga': '1200'}, {'tanah': '150', 'bangunan': '100', 'jarak_ke_pusat': '50', 'harga': '1800'}, {'tanah': '150', 'bangunan': '90', 'jarak_ke_pusat': '15', 'harga': '3000'}]\n",
            "Prediksi harga rumah:  1200\n"
          ]
        }
      ]
    },
    {
      "cell_type": "code",
      "source": [],
      "metadata": {
        "id": "ifx1m2AUagwT"
      },
      "execution_count": null,
      "outputs": []
    }
  ]
}