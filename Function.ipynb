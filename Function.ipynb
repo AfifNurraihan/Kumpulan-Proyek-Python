{
  "nbformat": 4,
  "nbformat_minor": 0,
  "metadata": {
    "colab": {
      "provenance": [],
      "authorship_tag": "ABX9TyMzP+aAZ89Lw7Y0cmLM5kmD",
      "include_colab_link": true
    },
    "kernelspec": {
      "name": "python3",
      "display_name": "Python 3"
    },
    "language_info": {
      "name": "python"
    }
  },
  "cells": [
    {
      "cell_type": "markdown",
      "metadata": {
        "id": "view-in-github",
        "colab_type": "text"
      },
      "source": [
        "<a href=\"https://colab.research.google.com/github/AfifNurraihan/Kumpulan-Proyek-Python/blob/main/Function.ipynb\" target=\"_parent\"><img src=\"https://colab.research.google.com/assets/colab-badge.svg\" alt=\"Open In Colab\"/></a>"
      ]
    },
    {
      "cell_type": "markdown",
      "source": [
        "#**Membuat Fungsi**"
      ],
      "metadata": {
        "id": "OE2X8wFcvWmP"
      }
    },
    {
      "cell_type": "markdown",
      "source": [
        "Fungsi pada Python"
      ],
      "metadata": {
        "id": "3aEShCJQviPD"
      }
    },
    {
      "cell_type": "code",
      "execution_count": 15,
      "metadata": {
        "colab": {
          "base_uri": "https://localhost:8080/"
        },
        "id": "E4oL88rvu-E3",
        "outputId": "8856e270-7155-481b-e703-d7da12f906a5"
      },
      "outputs": [
        {
          "output_type": "stream",
          "name": "stdout",
          "text": [
            "Halo Semua\n",
            "Aku sedang belajar bahasa Python lhoo\n"
          ]
        }
      ],
      "source": [
        "# Definisikan fungsi\n",
        "def contoh_fungsi():\n",
        "    print(\"Halo Semua\")\n",
        "    print(\"Aku sedang belajar bahasa Python lhoo\")\n",
        "# Panggil fungsi yang telah didefinisikan\n",
        "contoh_fungsi()"
      ]
    },
    {
      "cell_type": "code",
      "source": [
        "# Definsikan fungsi \n",
        "def fungsi_dengan_argumen(nama_depan, nama_tengah,nama_belakang):\n",
        "    print(nama_depan+\" \"+nama_tengah+\" \"+nama_belakang)\n",
        "# Panggil fungsi dengan memasukkan argumen\n",
        "# nama_depan yaitu \"Decky\" dan nama_belakang \"Chen\"\n",
        "fungsi_dengan_argumen(\"Decky\", \"Sambo\", \"Chen\")"
      ],
      "metadata": {
        "colab": {
          "base_uri": "https://localhost:8080/"
        },
        "id": "0uKHVvNwv5vE",
        "outputId": "9df3a1e7-1550-46c2-cad8-a3a9d942995f"
      },
      "execution_count": 16,
      "outputs": [
        {
          "output_type": "stream",
          "name": "stdout",
          "text": [
            "Decky Sambo Chen\n"
          ]
        }
      ]
    },
    {
      "cell_type": "code",
      "source": [
        "# Definsikan fungsi dengan nilai default argument kedua dan ketiga adalah \"\".\n",
        "def fungsi_dengan_argumen(nama_depan, nama_tengah = \"\",nama_belakang = \"\"):\n",
        "\tprint(nama_depan+\" \"+nama_tengah+\" \"+nama_belakang)\n",
        "# Panggil fungsi dengan memasukkan argumen nama_depan \"Decky\"\n",
        "fungsi_dengan_argumen(\"Decky\")\n",
        "# Panggil fungsi dengan memasukkan argumen\n",
        "# nama_depan yaitu \"Decky\", nama_tengah \"Sambo\" dan nama_belakang \"Chen\"\n",
        "fungsi_dengan_argumen(\"Decky\", \"Sambo\", \"Chen\")"
      ],
      "metadata": {
        "colab": {
          "base_uri": "https://localhost:8080/"
        },
        "id": "zFvhSBXvwkS7",
        "outputId": "8f9cdae9-5bc3-4db8-f39b-30302fca6fb1"
      },
      "execution_count": 17,
      "outputs": [
        {
          "output_type": "stream",
          "name": "stdout",
          "text": [
            "Decky  \n",
            "Decky Sambo Chen\n"
          ]
        }
      ]
    },
    {
      "cell_type": "markdown",
      "source": [
        "#***TUGAS***\n"
      ],
      "metadata": {
        "id": "0p36zK7ax_hx"
      }
    },
    {
      "cell_type": "markdown",
      "source": [
        "Tentukan nilai rata-rata dan standar deviasi untuk data yang sudah dibuat dalam bentuk list of numeric bertipe int/float berikut ini\n",
        "\n",
        "    data1 = [70, 70, 70, 100, 100, 100, 120, 120, 150, 150]\n",
        "dan\n",
        "\n",
        "    data2 = [50, 60, 60, 50, 70, 70, 100, 80, 100, 90]"
      ],
      "metadata": {
        "id": "zWgC9ewSyFEZ"
      }
    },
    {
      "cell_type": "code",
      "source": [
        "# 1.Buat data kedalam bentuk list \n",
        "data1 = [70, 70, 70, 100, 100, 100, 120, 120, 150, 150]\n",
        "data2 = [50, 60, 60, 50, 70, 70, 100, 80, 100, 90]\n",
        "\n",
        "# 2. Buat fungsi hitung_rata_rata\n",
        "def hitung_rata_rata(data):\n",
        "    jumlah = 0\n",
        "    for item in data:\n",
        "        jumlah += item\n",
        "    rata_rata = jumlah/len(data)\n",
        "    return rata_rata\n",
        "\n",
        "# 3. Panggil fungsi hitung_rata_rata untuk memperoleh nilai rata_rata\n",
        "print('Rata-rata data1:')\n",
        "print(hitung_rata_rata(data1))\n",
        "print('Rata-rata data2:')\n",
        "print(hitung_rata_rata(data2))"
      ],
      "metadata": {
        "colab": {
          "base_uri": "https://localhost:8080/"
        },
        "id": "5EqvjESgx_Qk",
        "outputId": "24144f36-3e35-4f75-cebc-97a57d1ff647"
      },
      "execution_count": 18,
      "outputs": [
        {
          "output_type": "stream",
          "name": "stdout",
          "text": [
            "Rata-rata data1:\n",
            "105.0\n",
            "Rata-rata data2:\n",
            "73.0\n"
          ]
        }
      ]
    },
    {
      "cell_type": "code",
      "source": [
        "# 5. Buat fungsi hitung_standar_deviasi\n",
        "def hitung_standar_deviasi(data):\n",
        "    rata_rata_data = hitung_rata_rata(data)\n",
        "    varians = 0\n",
        "    for item in data:\n",
        "        varians += (item - rata_rata_data) ** 2\n",
        "    varians /= len(data)\n",
        "    standar_deviasi = varians ** (1/2)\n",
        "    return standar_deviasi\n",
        "\n",
        "# 6. Panggil fungsi hitung_standar_deviasi untuk memperoleh nilai standar deviasi\n",
        "print('Standar deviasi data1:')\n",
        "print(hitung_standar_deviasi(data1))\n",
        "print('Standar deviasi data2:')\n",
        "print(hitung_standar_deviasi(data2))"
      ],
      "metadata": {
        "colab": {
          "base_uri": "https://localhost:8080/"
        },
        "id": "xIt9N1V6zxVX",
        "outputId": "b5104166-c4c7-4b5d-ac1d-09eccd81352e"
      },
      "execution_count": 19,
      "outputs": [
        {
          "output_type": "stream",
          "name": "stdout",
          "text": [
            "Standar deviasi data1:\n",
            "28.722813232690143\n",
            "Standar deviasi data2:\n",
            "17.916472867168917\n"
          ]
        }
      ]
    },
    {
      "cell_type": "code",
      "source": [
        "# Data properti\n",
        "tabel_properti = {\n",
        "'luas_tanah': [70, 70, 70, 100, 100, 100, 120, 120, 150, 150],\n",
        "'luas_bangunan': [50, 60, 60, 50, 70, 70, 100, 80, 100, 90],\n",
        "'jarak': [15, 30, 55, 30, 25, 50, 20, 50, 50, 15],\n",
        "'harga': [500, 400, 300, 700, 1000, 650, 2000, 1200, 1800, 3000]\n",
        "}\n",
        "\n",
        "# Definisikan fungsi untuk menghitung rata-rata dan standar deviasi\n",
        "# setiap kolom pada tabel_properti yang diberikan oleh key dict.\n",
        "def deskripsi_properti(tabel):\n",
        "    for key in tabel.keys():\n",
        "        print('Rata-rata ' + key + ':')\n",
        "        print(hitung_rata_rata(tabel[key])) \n",
        "        print('Standar deviasi ' + key + ':')\n",
        "        print(hitung_standar_deviasi(tabel[key]))\n",
        "        print('')\n",
        "# Panggil fungsi deskripsi_properti untuk menghitung rata-rata \n",
        "# dan standar deviasi setiap kolom pada tabel_properti\n",
        "deskripsi_properti(tabel_properti)"
      ],
      "metadata": {
        "colab": {
          "base_uri": "https://localhost:8080/"
        },
        "id": "CW8cA-eQ91Gt",
        "outputId": "923d4e42-13ef-444b-bb91-92ec747545cd"
      },
      "execution_count": 20,
      "outputs": [
        {
          "output_type": "stream",
          "name": "stdout",
          "text": [
            "Rata-rata luas_tanah:\n",
            "105.0\n",
            "Standar deviasi luas_tanah:\n",
            "28.722813232690143\n",
            "\n",
            "Rata-rata luas_bangunan:\n",
            "73.0\n",
            "Standar deviasi luas_bangunan:\n",
            "17.916472867168917\n",
            "\n",
            "Rata-rata jarak:\n",
            "34.0\n",
            "Standar deviasi jarak:\n",
            "14.966629547095765\n",
            "\n",
            "Rata-rata harga:\n",
            "1155.0\n",
            "Standar deviasi harga:\n",
            "821.7207554881403\n",
            "\n"
          ]
        }
      ]
    }
  ]
}