{
  "nbformat": 4,
  "nbformat_minor": 0,
  "metadata": {
    "colab": {
      "provenance": [],
      "collapsed_sections": [],
      "authorship_tag": "ABX9TyNrtx0EHAtdCprGUbOUlnGT",
      "include_colab_link": true
    },
    "kernelspec": {
      "name": "python3",
      "display_name": "Python 3"
    },
    "language_info": {
      "name": "python"
    },
    "accelerator": "GPU"
  },
  "cells": [
    {
      "cell_type": "markdown",
      "metadata": {
        "id": "view-in-github",
        "colab_type": "text"
      },
      "source": [
        "<a href=\"https://colab.research.google.com/github/AfifNurraihan/Kumpulan-Proyek-Python/blob/main/Proyek_Kedua_Membuat_Model_Machine_Learning_dengan_Data_Time_Series_(Afif_Nurraihan).ipynb\" target=\"_parent\"><img src=\"https://colab.research.google.com/assets/colab-badge.svg\" alt=\"Open In Colab\"/></a>"
      ]
    },
    {
      "cell_type": "code",
      "execution_count": null,
      "metadata": {
        "id": "Gsfe3DGU-tZO"
      },
      "outputs": [],
      "source": [
        "# Import library\n",
        "import numpy as np\n",
        "import pandas as pd\n",
        "from keras.layers import Dense, LSTM\n",
        "import matplotlib.pyplot as plt\n",
        "import tensorflow as tf"
      ]
    },
    {
      "cell_type": "code",
      "source": [
        "# Read datasets\n",
        "df = pd.read_csv('NFLX.csv')\n",
        "df = df.drop(columns=['Open','High','Low','Adj Close','Volume'])\n",
        "df"
      ],
      "metadata": {
        "colab": {
          "base_uri": "https://localhost:8080/",
          "height": 424
        },
        "id": "V8LEHmtrb6vz",
        "outputId": "07c1147b-8a1e-4ead-959a-608fb07fb8ac"
      },
      "execution_count": null,
      "outputs": [
        {
          "output_type": "execute_result",
          "data": {
            "text/plain": [
              "            Date       Close\n",
              "0     2018-02-05  254.259995\n",
              "1     2018-02-06  265.720001\n",
              "2     2018-02-07  264.559998\n",
              "3     2018-02-08  250.100006\n",
              "4     2018-02-09  249.470001\n",
              "...          ...         ...\n",
              "1004  2022-01-31  427.140015\n",
              "1005  2022-02-01  457.130005\n",
              "1006  2022-02-02  429.480011\n",
              "1007  2022-02-03  405.600006\n",
              "1008  2022-02-04  410.170013\n",
              "\n",
              "[1009 rows x 2 columns]"
            ],
            "text/html": [
              "\n",
              "  <div id=\"df-4bfdb7ca-1d65-4fb9-ac0b-b64f9d6e6043\">\n",
              "    <div class=\"colab-df-container\">\n",
              "      <div>\n",
              "<style scoped>\n",
              "    .dataframe tbody tr th:only-of-type {\n",
              "        vertical-align: middle;\n",
              "    }\n",
              "\n",
              "    .dataframe tbody tr th {\n",
              "        vertical-align: top;\n",
              "    }\n",
              "\n",
              "    .dataframe thead th {\n",
              "        text-align: right;\n",
              "    }\n",
              "</style>\n",
              "<table border=\"1\" class=\"dataframe\">\n",
              "  <thead>\n",
              "    <tr style=\"text-align: right;\">\n",
              "      <th></th>\n",
              "      <th>Date</th>\n",
              "      <th>Close</th>\n",
              "    </tr>\n",
              "  </thead>\n",
              "  <tbody>\n",
              "    <tr>\n",
              "      <th>0</th>\n",
              "      <td>2018-02-05</td>\n",
              "      <td>254.259995</td>\n",
              "    </tr>\n",
              "    <tr>\n",
              "      <th>1</th>\n",
              "      <td>2018-02-06</td>\n",
              "      <td>265.720001</td>\n",
              "    </tr>\n",
              "    <tr>\n",
              "      <th>2</th>\n",
              "      <td>2018-02-07</td>\n",
              "      <td>264.559998</td>\n",
              "    </tr>\n",
              "    <tr>\n",
              "      <th>3</th>\n",
              "      <td>2018-02-08</td>\n",
              "      <td>250.100006</td>\n",
              "    </tr>\n",
              "    <tr>\n",
              "      <th>4</th>\n",
              "      <td>2018-02-09</td>\n",
              "      <td>249.470001</td>\n",
              "    </tr>\n",
              "    <tr>\n",
              "      <th>...</th>\n",
              "      <td>...</td>\n",
              "      <td>...</td>\n",
              "    </tr>\n",
              "    <tr>\n",
              "      <th>1004</th>\n",
              "      <td>2022-01-31</td>\n",
              "      <td>427.140015</td>\n",
              "    </tr>\n",
              "    <tr>\n",
              "      <th>1005</th>\n",
              "      <td>2022-02-01</td>\n",
              "      <td>457.130005</td>\n",
              "    </tr>\n",
              "    <tr>\n",
              "      <th>1006</th>\n",
              "      <td>2022-02-02</td>\n",
              "      <td>429.480011</td>\n",
              "    </tr>\n",
              "    <tr>\n",
              "      <th>1007</th>\n",
              "      <td>2022-02-03</td>\n",
              "      <td>405.600006</td>\n",
              "    </tr>\n",
              "    <tr>\n",
              "      <th>1008</th>\n",
              "      <td>2022-02-04</td>\n",
              "      <td>410.170013</td>\n",
              "    </tr>\n",
              "  </tbody>\n",
              "</table>\n",
              "<p>1009 rows × 2 columns</p>\n",
              "</div>\n",
              "      <button class=\"colab-df-convert\" onclick=\"convertToInteractive('df-4bfdb7ca-1d65-4fb9-ac0b-b64f9d6e6043')\"\n",
              "              title=\"Convert this dataframe to an interactive table.\"\n",
              "              style=\"display:none;\">\n",
              "        \n",
              "  <svg xmlns=\"http://www.w3.org/2000/svg\" height=\"24px\"viewBox=\"0 0 24 24\"\n",
              "       width=\"24px\">\n",
              "    <path d=\"M0 0h24v24H0V0z\" fill=\"none\"/>\n",
              "    <path d=\"M18.56 5.44l.94 2.06.94-2.06 2.06-.94-2.06-.94-.94-2.06-.94 2.06-2.06.94zm-11 1L8.5 8.5l.94-2.06 2.06-.94-2.06-.94L8.5 2.5l-.94 2.06-2.06.94zm10 10l.94 2.06.94-2.06 2.06-.94-2.06-.94-.94-2.06-.94 2.06-2.06.94z\"/><path d=\"M17.41 7.96l-1.37-1.37c-.4-.4-.92-.59-1.43-.59-.52 0-1.04.2-1.43.59L10.3 9.45l-7.72 7.72c-.78.78-.78 2.05 0 2.83L4 21.41c.39.39.9.59 1.41.59.51 0 1.02-.2 1.41-.59l7.78-7.78 2.81-2.81c.8-.78.8-2.07 0-2.86zM5.41 20L4 18.59l7.72-7.72 1.47 1.35L5.41 20z\"/>\n",
              "  </svg>\n",
              "      </button>\n",
              "      \n",
              "  <style>\n",
              "    .colab-df-container {\n",
              "      display:flex;\n",
              "      flex-wrap:wrap;\n",
              "      gap: 12px;\n",
              "    }\n",
              "\n",
              "    .colab-df-convert {\n",
              "      background-color: #E8F0FE;\n",
              "      border: none;\n",
              "      border-radius: 50%;\n",
              "      cursor: pointer;\n",
              "      display: none;\n",
              "      fill: #1967D2;\n",
              "      height: 32px;\n",
              "      padding: 0 0 0 0;\n",
              "      width: 32px;\n",
              "    }\n",
              "\n",
              "    .colab-df-convert:hover {\n",
              "      background-color: #E2EBFA;\n",
              "      box-shadow: 0px 1px 2px rgba(60, 64, 67, 0.3), 0px 1px 3px 1px rgba(60, 64, 67, 0.15);\n",
              "      fill: #174EA6;\n",
              "    }\n",
              "\n",
              "    [theme=dark] .colab-df-convert {\n",
              "      background-color: #3B4455;\n",
              "      fill: #D2E3FC;\n",
              "    }\n",
              "\n",
              "    [theme=dark] .colab-df-convert:hover {\n",
              "      background-color: #434B5C;\n",
              "      box-shadow: 0px 1px 3px 1px rgba(0, 0, 0, 0.15);\n",
              "      filter: drop-shadow(0px 1px 2px rgba(0, 0, 0, 0.3));\n",
              "      fill: #FFFFFF;\n",
              "    }\n",
              "  </style>\n",
              "\n",
              "      <script>\n",
              "        const buttonEl =\n",
              "          document.querySelector('#df-4bfdb7ca-1d65-4fb9-ac0b-b64f9d6e6043 button.colab-df-convert');\n",
              "        buttonEl.style.display =\n",
              "          google.colab.kernel.accessAllowed ? 'block' : 'none';\n",
              "\n",
              "        async function convertToInteractive(key) {\n",
              "          const element = document.querySelector('#df-4bfdb7ca-1d65-4fb9-ac0b-b64f9d6e6043');\n",
              "          const dataTable =\n",
              "            await google.colab.kernel.invokeFunction('convertToInteractive',\n",
              "                                                     [key], {});\n",
              "          if (!dataTable) return;\n",
              "\n",
              "          const docLinkHtml = 'Like what you see? Visit the ' +\n",
              "            '<a target=\"_blank\" href=https://colab.research.google.com/notebooks/data_table.ipynb>data table notebook</a>'\n",
              "            + ' to learn more about interactive tables.';\n",
              "          element.innerHTML = '';\n",
              "          dataTable['output_type'] = 'display_data';\n",
              "          await google.colab.output.renderOutput(dataTable, element);\n",
              "          const docLink = document.createElement('div');\n",
              "          docLink.innerHTML = docLinkHtml;\n",
              "          element.appendChild(docLink);\n",
              "        }\n",
              "      </script>\n",
              "    </div>\n",
              "  </div>\n",
              "  "
            ]
          },
          "metadata": {},
          "execution_count": 2
        }
      ]
    },
    {
      "cell_type": "code",
      "source": [
        "# Normalization\n",
        "df[\"Close\"] = (df[\"Close\"] - df[\"Close\"].mean()) / df[\"Close\"].std()"
      ],
      "metadata": {
        "id": "UPbt4yfF67da"
      },
      "execution_count": null,
      "outputs": []
    },
    {
      "cell_type": "code",
      "source": [
        "df"
      ],
      "metadata": {
        "colab": {
          "base_uri": "https://localhost:8080/",
          "height": 424
        },
        "id": "WW-Zi2sh7Fc3",
        "outputId": "ed49c610-1839-41bf-f563-742f9d8084e7"
      },
      "execution_count": null,
      "outputs": [
        {
          "output_type": "execute_result",
          "data": {
            "text/plain": [
              "            Date     Close\n",
              "0     2018-02-05 -1.521292\n",
              "1     2018-02-06 -1.415465\n",
              "2     2018-02-07 -1.426177\n",
              "3     2018-02-08 -1.559708\n",
              "4     2018-02-09 -1.565525\n",
              "...          ...       ...\n",
              "1004  2022-01-31  0.075162\n",
              "1005  2022-02-01  0.352103\n",
              "1006  2022-02-02  0.096771\n",
              "1007  2022-02-03 -0.123749\n",
              "1008  2022-02-04 -0.081547\n",
              "\n",
              "[1009 rows x 2 columns]"
            ],
            "text/html": [
              "\n",
              "  <div id=\"df-bba91862-ca81-4105-9e94-1ce77dbddce5\">\n",
              "    <div class=\"colab-df-container\">\n",
              "      <div>\n",
              "<style scoped>\n",
              "    .dataframe tbody tr th:only-of-type {\n",
              "        vertical-align: middle;\n",
              "    }\n",
              "\n",
              "    .dataframe tbody tr th {\n",
              "        vertical-align: top;\n",
              "    }\n",
              "\n",
              "    .dataframe thead th {\n",
              "        text-align: right;\n",
              "    }\n",
              "</style>\n",
              "<table border=\"1\" class=\"dataframe\">\n",
              "  <thead>\n",
              "    <tr style=\"text-align: right;\">\n",
              "      <th></th>\n",
              "      <th>Date</th>\n",
              "      <th>Close</th>\n",
              "    </tr>\n",
              "  </thead>\n",
              "  <tbody>\n",
              "    <tr>\n",
              "      <th>0</th>\n",
              "      <td>2018-02-05</td>\n",
              "      <td>-1.521292</td>\n",
              "    </tr>\n",
              "    <tr>\n",
              "      <th>1</th>\n",
              "      <td>2018-02-06</td>\n",
              "      <td>-1.415465</td>\n",
              "    </tr>\n",
              "    <tr>\n",
              "      <th>2</th>\n",
              "      <td>2018-02-07</td>\n",
              "      <td>-1.426177</td>\n",
              "    </tr>\n",
              "    <tr>\n",
              "      <th>3</th>\n",
              "      <td>2018-02-08</td>\n",
              "      <td>-1.559708</td>\n",
              "    </tr>\n",
              "    <tr>\n",
              "      <th>4</th>\n",
              "      <td>2018-02-09</td>\n",
              "      <td>-1.565525</td>\n",
              "    </tr>\n",
              "    <tr>\n",
              "      <th>...</th>\n",
              "      <td>...</td>\n",
              "      <td>...</td>\n",
              "    </tr>\n",
              "    <tr>\n",
              "      <th>1004</th>\n",
              "      <td>2022-01-31</td>\n",
              "      <td>0.075162</td>\n",
              "    </tr>\n",
              "    <tr>\n",
              "      <th>1005</th>\n",
              "      <td>2022-02-01</td>\n",
              "      <td>0.352103</td>\n",
              "    </tr>\n",
              "    <tr>\n",
              "      <th>1006</th>\n",
              "      <td>2022-02-02</td>\n",
              "      <td>0.096771</td>\n",
              "    </tr>\n",
              "    <tr>\n",
              "      <th>1007</th>\n",
              "      <td>2022-02-03</td>\n",
              "      <td>-0.123749</td>\n",
              "    </tr>\n",
              "    <tr>\n",
              "      <th>1008</th>\n",
              "      <td>2022-02-04</td>\n",
              "      <td>-0.081547</td>\n",
              "    </tr>\n",
              "  </tbody>\n",
              "</table>\n",
              "<p>1009 rows × 2 columns</p>\n",
              "</div>\n",
              "      <button class=\"colab-df-convert\" onclick=\"convertToInteractive('df-bba91862-ca81-4105-9e94-1ce77dbddce5')\"\n",
              "              title=\"Convert this dataframe to an interactive table.\"\n",
              "              style=\"display:none;\">\n",
              "        \n",
              "  <svg xmlns=\"http://www.w3.org/2000/svg\" height=\"24px\"viewBox=\"0 0 24 24\"\n",
              "       width=\"24px\">\n",
              "    <path d=\"M0 0h24v24H0V0z\" fill=\"none\"/>\n",
              "    <path d=\"M18.56 5.44l.94 2.06.94-2.06 2.06-.94-2.06-.94-.94-2.06-.94 2.06-2.06.94zm-11 1L8.5 8.5l.94-2.06 2.06-.94-2.06-.94L8.5 2.5l-.94 2.06-2.06.94zm10 10l.94 2.06.94-2.06 2.06-.94-2.06-.94-.94-2.06-.94 2.06-2.06.94z\"/><path d=\"M17.41 7.96l-1.37-1.37c-.4-.4-.92-.59-1.43-.59-.52 0-1.04.2-1.43.59L10.3 9.45l-7.72 7.72c-.78.78-.78 2.05 0 2.83L4 21.41c.39.39.9.59 1.41.59.51 0 1.02-.2 1.41-.59l7.78-7.78 2.81-2.81c.8-.78.8-2.07 0-2.86zM5.41 20L4 18.59l7.72-7.72 1.47 1.35L5.41 20z\"/>\n",
              "  </svg>\n",
              "      </button>\n",
              "      \n",
              "  <style>\n",
              "    .colab-df-container {\n",
              "      display:flex;\n",
              "      flex-wrap:wrap;\n",
              "      gap: 12px;\n",
              "    }\n",
              "\n",
              "    .colab-df-convert {\n",
              "      background-color: #E8F0FE;\n",
              "      border: none;\n",
              "      border-radius: 50%;\n",
              "      cursor: pointer;\n",
              "      display: none;\n",
              "      fill: #1967D2;\n",
              "      height: 32px;\n",
              "      padding: 0 0 0 0;\n",
              "      width: 32px;\n",
              "    }\n",
              "\n",
              "    .colab-df-convert:hover {\n",
              "      background-color: #E2EBFA;\n",
              "      box-shadow: 0px 1px 2px rgba(60, 64, 67, 0.3), 0px 1px 3px 1px rgba(60, 64, 67, 0.15);\n",
              "      fill: #174EA6;\n",
              "    }\n",
              "\n",
              "    [theme=dark] .colab-df-convert {\n",
              "      background-color: #3B4455;\n",
              "      fill: #D2E3FC;\n",
              "    }\n",
              "\n",
              "    [theme=dark] .colab-df-convert:hover {\n",
              "      background-color: #434B5C;\n",
              "      box-shadow: 0px 1px 3px 1px rgba(0, 0, 0, 0.15);\n",
              "      filter: drop-shadow(0px 1px 2px rgba(0, 0, 0, 0.3));\n",
              "      fill: #FFFFFF;\n",
              "    }\n",
              "  </style>\n",
              "\n",
              "      <script>\n",
              "        const buttonEl =\n",
              "          document.querySelector('#df-bba91862-ca81-4105-9e94-1ce77dbddce5 button.colab-df-convert');\n",
              "        buttonEl.style.display =\n",
              "          google.colab.kernel.accessAllowed ? 'block' : 'none';\n",
              "\n",
              "        async function convertToInteractive(key) {\n",
              "          const element = document.querySelector('#df-bba91862-ca81-4105-9e94-1ce77dbddce5');\n",
              "          const dataTable =\n",
              "            await google.colab.kernel.invokeFunction('convertToInteractive',\n",
              "                                                     [key], {});\n",
              "          if (!dataTable) return;\n",
              "\n",
              "          const docLinkHtml = 'Like what you see? Visit the ' +\n",
              "            '<a target=\"_blank\" href=https://colab.research.google.com/notebooks/data_table.ipynb>data table notebook</a>'\n",
              "            + ' to learn more about interactive tables.';\n",
              "          element.innerHTML = '';\n",
              "          dataTable['output_type'] = 'display_data';\n",
              "          await google.colab.output.renderOutput(dataTable, element);\n",
              "          const docLink = document.createElement('div');\n",
              "          docLink.innerHTML = docLinkHtml;\n",
              "          element.appendChild(docLink);\n",
              "        }\n",
              "      </script>\n",
              "    </div>\n",
              "  </div>\n",
              "  "
            ]
          },
          "metadata": {},
          "execution_count": 4
        }
      ]
    },
    {
      "cell_type": "code",
      "source": [
        "#Checking for null values\n",
        "df.isnull().sum()"
      ],
      "metadata": {
        "colab": {
          "base_uri": "https://localhost:8080/"
        },
        "id": "nYQIPbavfNSg",
        "outputId": "c778cbc7-6e08-4702-fb6d-c5ac4cca4da4"
      },
      "execution_count": null,
      "outputs": [
        {
          "output_type": "execute_result",
          "data": {
            "text/plain": [
              "Date     0\n",
              "Close    0\n",
              "dtype: int64"
            ]
          },
          "metadata": {},
          "execution_count": 5
        }
      ]
    },
    {
      "cell_type": "code",
      "source": [
        "# Threshold\n",
        "threshold_mae = (df['Close'].max() - df['Close'].min()) * 10/100\n",
        "threshold_mae"
      ],
      "metadata": {
        "colab": {
          "base_uri": "https://localhost:8080/"
        },
        "id": "6ARCaamumiwd",
        "outputId": "ea30ee32-b5f4-409a-8c5a-269500ff57b9"
      },
      "execution_count": null,
      "outputs": [
        {
          "output_type": "execute_result",
          "data": {
            "text/plain": [
              "0.422762953364581"
            ]
          },
          "metadata": {},
          "execution_count": 6
        }
      ]
    },
    {
      "cell_type": "code",
      "source": [
        "# Divide the data into training data and testing data\n",
        "from sklearn.model_selection import train_test_split\n",
        "date = df['Date'].values\n",
        "close = df['Close'].values\n",
        "date_train, date_test, close_train, close_test = train_test_split(date, close, test_size=0.2, shuffle=False)"
      ],
      "metadata": {
        "id": "hAF6KgbZfnEx"
      },
      "execution_count": null,
      "outputs": []
    },
    {
      "cell_type": "code",
      "source": [
        "# Plot Close Average\n",
        "plt.figure(figsize=(15,5))\n",
        "plt.plot(date_train, close_train)\n",
        "plt.title('Close average',\n",
        "          fontsize=20);"
      ],
      "metadata": {
        "colab": {
          "base_uri": "https://localhost:8080/",
          "height": 341
        },
        "id": "IHPcK9lehw02",
        "outputId": "befb3aae-f903-40b3-b871-67daed36c8c2"
      },
      "execution_count": null,
      "outputs": [
        {
          "output_type": "display_data",
          "data": {
            "text/plain": [
              "<Figure size 1080x360 with 1 Axes>"
            ],
            "image/png": "[encoded data removed]"
          },
          "metadata": {
            "needs_background": "light"
          }
        }
      ]
    },
    {
      "cell_type": "code",
      "source": [
        "def windowed_dataset(series, window_size, batch_size, shuffle_buffer):\n",
        "    series = tf.expand_dims(series, axis=-1)\n",
        "    ds = tf.data.Dataset.from_tensor_slices(series)\n",
        "    ds = ds.window(window_size + 1, shift=1, drop_remainder=True)\n",
        "    ds = ds.flat_map(lambda w: w.batch(window_size + 1))\n",
        "    ds = ds.shuffle(shuffle_buffer)\n",
        "    ds = ds.map(lambda w: (w[:-1], w[-1:]))\n",
        "    return ds.batch(batch_size).prefetch(1)"
      ],
      "metadata": {
        "id": "_m65abhSiW9r"
      },
      "execution_count": null,
      "outputs": []
    },
    {
      "cell_type": "code",
      "source": [
        "train_set = windowed_dataset(close_train, window_size=80, batch_size=100, shuffle_buffer=1000)\n",
        "model = tf.keras.models.Sequential([\n",
        "  tf.keras.layers.Bidirectional(tf.keras.layers.LSTM(128, return_sequences=True)),\n",
        "  tf.keras.layers.LSTM(64),\n",
        "  tf.keras.layers.Dropout(0.5),\n",
        "  tf.keras.layers.Dense(128, activation=\"relu\"),\n",
        "  tf.keras.layers.Dropout(0.5),\n",
        "  tf.keras.layers.Dense(64, activation=\"relu\"),\n",
        "  tf.keras.layers.Dense(1),\n",
        "])"
      ],
      "metadata": {
        "id": "AONNXwj_ibqf"
      },
      "execution_count": null,
      "outputs": []
    },
    {
      "cell_type": "code",
      "source": [
        "optimizer = tf.keras.optimizers.Adam()\n",
        "model.compile(loss=tf.keras.losses.Huber(),\n",
        "              optimizer=optimizer,\n",
        "              metrics=[\"mae\"])\n",
        "history = model.fit(train_set,epochs=50)"
      ],
      "metadata": {
        "colab": {
          "base_uri": "https://localhost:8080/"
        },
        "id": "9UCsP8VIilFb",
        "outputId": "87747627-2470-4a34-e853-b1fbf7461ff9"
      },
      "execution_count": null,
      "outputs": [
        {
          "output_type": "stream",
          "name": "stdout",
          "text": [
            "Epoch 1/50\n",
            "8/8 [==============================] - 11s 72ms/step - loss: 0.2161 - mae: 0.5646\n",
            "Epoch 2/50\n",
            "8/8 [==============================] - 0s 22ms/step - loss: 0.0653 - mae: 0.2799\n",
            "Epoch 3/50\n",
            "8/8 [==============================] - 0s 20ms/step - loss: 0.0541 - mae: 0.2489\n",
            "Epoch 4/50\n",
            "8/8 [==============================] - 0s 19ms/step - loss: 0.0427 - mae: 0.2256\n",
            "Epoch 5/50\n",
            "8/8 [==============================] - 0s 19ms/step - loss: 0.0340 - mae: 0.2002\n",
            "Epoch 6/50\n",
            "8/8 [==============================] - 0s 19ms/step - loss: 0.0339 - mae: 0.1997\n",
            "Epoch 7/50\n",
            "8/8 [==============================] - 0s 19ms/step - loss: 0.0294 - mae: 0.1855\n",
            "Epoch 8/50\n",
            "8/8 [==============================] - 0s 19ms/step - loss: 0.0301 - mae: 0.1853\n",
            "Epoch 9/50\n",
            "8/8 [==============================] - 0s 19ms/step - loss: 0.0269 - mae: 0.1738\n",
            "Epoch 10/50\n",
            "8/8 [==============================] - 0s 20ms/step - loss: 0.0271 - mae: 0.1760\n",
            "Epoch 11/50\n",
            "8/8 [==============================] - 0s 19ms/step - loss: 0.0217 - mae: 0.1606\n",
            "Epoch 12/50\n",
            "8/8 [==============================] - 0s 18ms/step - loss: 0.0257 - mae: 0.1725\n",
            "Epoch 13/50\n",
            "8/8 [==============================] - 0s 18ms/step - loss: 0.0228 - mae: 0.1647\n",
            "Epoch 14/50\n",
            "8/8 [==============================] - 0s 17ms/step - loss: 0.0253 - mae: 0.1705\n",
            "Epoch 15/50\n",
            "8/8 [==============================] - 0s 17ms/step - loss: 0.0216 - mae: 0.1590\n",
            "Epoch 16/50\n",
            "8/8 [==============================] - 0s 18ms/step - loss: 0.0198 - mae: 0.1546\n",
            "Epoch 17/50\n",
            "8/8 [==============================] - 0s 19ms/step - loss: 0.0232 - mae: 0.1633\n",
            "Epoch 18/50\n",
            "8/8 [==============================] - 0s 18ms/step - loss: 0.0207 - mae: 0.1557\n",
            "Epoch 19/50\n",
            "8/8 [==============================] - 0s 18ms/step - loss: 0.0216 - mae: 0.1563\n",
            "Epoch 20/50\n",
            "8/8 [==============================] - 0s 19ms/step - loss: 0.0219 - mae: 0.1601\n",
            "Epoch 21/50\n",
            "8/8 [==============================] - 0s 18ms/step - loss: 0.0193 - mae: 0.1508\n",
            "Epoch 22/50\n",
            "8/8 [==============================] - 0s 17ms/step - loss: 0.0202 - mae: 0.1508\n",
            "Epoch 23/50\n",
            "8/8 [==============================] - 0s 18ms/step - loss: 0.0182 - mae: 0.1439\n",
            "Epoch 24/50\n",
            "8/8 [==============================] - 0s 18ms/step - loss: 0.0184 - mae: 0.1442\n",
            "Epoch 25/50\n",
            "8/8 [==============================] - 0s 18ms/step - loss: 0.0184 - mae: 0.1470\n",
            "Epoch 26/50\n",
            "8/8 [==============================] - 0s 19ms/step - loss: 0.0165 - mae: 0.1393\n",
            "Epoch 27/50\n",
            "8/8 [==============================] - 0s 19ms/step - loss: 0.0175 - mae: 0.1433\n",
            "Epoch 28/50\n",
            "8/8 [==============================] - 0s 19ms/step - loss: 0.0185 - mae: 0.1417\n",
            "Epoch 29/50\n",
            "8/8 [==============================] - 0s 19ms/step - loss: 0.0187 - mae: 0.1469\n",
            "Epoch 30/50\n",
            "8/8 [==============================] - 0s 19ms/step - loss: 0.0178 - mae: 0.1462\n",
            "Epoch 31/50\n",
            "8/8 [==============================] - 0s 18ms/step - loss: 0.0171 - mae: 0.1377\n",
            "Epoch 32/50\n",
            "8/8 [==============================] - 0s 19ms/step - loss: 0.0171 - mae: 0.1390\n",
            "Epoch 33/50\n",
            "8/8 [==============================] - 0s 18ms/step - loss: 0.0169 - mae: 0.1391\n",
            "Epoch 34/50\n",
            "8/8 [==============================] - 0s 19ms/step - loss: 0.0168 - mae: 0.1360\n",
            "Epoch 35/50\n",
            "8/8 [==============================] - 0s 19ms/step - loss: 0.0158 - mae: 0.1349\n",
            "Epoch 36/50\n",
            "8/8 [==============================] - 0s 18ms/step - loss: 0.0173 - mae: 0.1418\n",
            "Epoch 37/50\n",
            "8/8 [==============================] - 0s 17ms/step - loss: 0.0166 - mae: 0.1378\n",
            "Epoch 38/50\n",
            "8/8 [==============================] - 0s 19ms/step - loss: 0.0167 - mae: 0.1380\n",
            "Epoch 39/50\n",
            "8/8 [==============================] - 0s 17ms/step - loss: 0.0158 - mae: 0.1352\n",
            "Epoch 40/50\n",
            "8/8 [==============================] - 0s 18ms/step - loss: 0.0163 - mae: 0.1388\n",
            "Epoch 41/50\n",
            "8/8 [==============================] - 0s 20ms/step - loss: 0.0159 - mae: 0.1349\n",
            "Epoch 42/50\n",
            "8/8 [==============================] - 0s 19ms/step - loss: 0.0145 - mae: 0.1279\n",
            "Epoch 43/50\n",
            "8/8 [==============================] - 0s 18ms/step - loss: 0.0164 - mae: 0.1377\n",
            "Epoch 44/50\n",
            "8/8 [==============================] - 0s 18ms/step - loss: 0.0154 - mae: 0.1312\n",
            "Epoch 45/50\n",
            "8/8 [==============================] - 0s 18ms/step - loss: 0.0174 - mae: 0.1413\n",
            "Epoch 46/50\n",
            "8/8 [==============================] - 0s 18ms/step - loss: 0.0143 - mae: 0.1265\n",
            "Epoch 47/50\n",
            "8/8 [==============================] - 0s 18ms/step - loss: 0.0153 - mae: 0.1340\n",
            "Epoch 48/50\n",
            "8/8 [==============================] - 0s 20ms/step - loss: 0.0151 - mae: 0.1285\n",
            "Epoch 49/50\n",
            "8/8 [==============================] - 0s 19ms/step - loss: 0.0153 - mae: 0.1333\n",
            "Epoch 50/50\n",
            "8/8 [==============================] - 0s 17ms/step - loss: 0.0154 - mae: 0.1335\n"
          ]
        }
      ]
    },
    {
      "cell_type": "code",
      "source": [],
      "metadata": {
        "id": "ex43diT8oDlJ"
      },
      "execution_count": null,
      "outputs": []
    }
  ]
}