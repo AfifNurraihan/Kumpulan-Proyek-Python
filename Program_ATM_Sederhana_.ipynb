{
  "nbformat": 4,
  "nbformat_minor": 0,
  "metadata": {
    "colab": {
      "provenance": [],
      "collapsed_sections": [],
      "authorship_tag": "ABX9TyMRm5zYcfsUv4zoKk8jMJGb",
      "include_colab_link": true
    },
    "kernelspec": {
      "name": "python3",
      "display_name": "Python 3"
    },
    "language_info": {
      "name": "python"
    }
  },
  "cells": [
    {
      "cell_type": "markdown",
      "metadata": {
        "id": "view-in-github",
        "colab_type": "text"
      },
      "source": [
        "<a href=\"https://colab.research.google.com/github/AfifNurraihan/Project-Sederhana-Python/blob/main/Program_ATM_Sederhana_.ipynb\" target=\"_parent\"><img src=\"https://colab.research.google.com/assets/colab-badge.svg\" alt=\"Open In Colab\"/></a>"
      ]
    },
    {
      "cell_type": "markdown",
      "source": [
        "#**Program ATM Sederhana**"
      ],
      "metadata": {
        "id": "o9NlwNiC8MZO"
      }
    },
    {
      "cell_type": "code",
      "execution_count": 12,
      "metadata": {
        "colab": {
          "base_uri": "https://localhost:8080/"
        },
        "id": "ZvbUU9JxxLTs",
        "outputId": "e0e6b9be-bfac-4e9e-b907-2bd466616f2f"
      },
      "outputs": [
        {
          "output_type": "stream",
          "name": "stdout",
          "text": [
            "===============================\n",
            "Selamat Datang di ATM King Kong\n",
            "===============================\n",
            "Pilih Opsi : \n",
            "1. Cek Uang Saya\n",
            "2. Ambil Uang Saya\n",
            "3. Tabung Uang Saya\n",
            "Silahkan pilih opsi : 3\n",
            "===============================\n",
            "Uang berjumlah Rp300.000, Mau Menabung Berapa?\n",
            "Masukkan Jumlah Uang Rp. 350000\n",
            "===============================\n",
            "Jumlah Uang Kamu Sekarang Adalah Rp. 650000\n",
            "===============================\n"
          ]
        }
      ],
      "source": [
        "print(\"===============================\")\n",
        "print(\"Selamat Datang di ATM King Kong\")\n",
        "print(\"===============================\")\n",
        "print(\"Pilih Opsi : \")\n",
        "print(\"1. Cek Uang Saya\")\n",
        "print(\"2. Ambil Uang Saya\")\n",
        "print(\"3. Tabung Uang Saya\")\n",
        "opsi = int(input(\"Silahkan pilih opsi : \"))\n",
        "print(\"===============================\")\n",
        "if opsi==1:\n",
        "  print(\"Uang Kamu Berjumlah Rp300.000\")\n",
        "elif opsi==2:\n",
        "  print(\"Pengambilan minimal pada ATM Kong Guan sebesar Rp100.000\")\n",
        "  print(\"Uang Kamu Berjumlah Rp300.000, Mau Mengambil Berapa?\")\n",
        "  print(\"1. Rp100.000\")\n",
        "  print(\"2. Rp300.000\")\n",
        "  print(\"3. Rp500.000\")\n",
        "  print(\"4. Jumlah lain\")\n",
        "  uang_saya = 300000\n",
        "  opsi2=int(input(\"Pilih Opsi Pengambilan Uang : \"))\n",
        "  if opsi2==1:\n",
        "    hasil = uang_saya - 100000\n",
        "    print(\"===============================\")\n",
        "    print(\"Selamat Transaksi Anda Berhasil\")\n",
        "    print(\"Uang Anda Sekarang Berjumlah : \",hasil)\n",
        "  elif opsi2==2:\n",
        "    hasil2 = uang_saya - 300000\n",
        "    print(\"===============================\")\n",
        "    print(\"Selamat Transaksi Anda Berhasil\")\n",
        "    print(\"Uang Anda Sekarang Berjumlah : \",hasil2)\n",
        "  elif opsi2==3:\n",
        "    hasil3 = uang_saya - 500000\n",
        "    print(\"===============================\")\n",
        "    print(\"Selamat Transaksi Anda Berhasil\")\n",
        "    print(\"Uang Anda Sekarang Berjumlah : \",hasil3)\n",
        "  elif opsi2==4:\n",
        "    jml = int(input(\"Masukkan Jumlah Uang : \"))\n",
        "    if jml < 100000:\n",
        "      print(\"===============================\")\n",
        "      print(\"Minimal Pengambilan Uang Rp100.000\")\n",
        "      print(\"Silahkan Coba Lagi\")\n",
        "    elif jml > 100000:\n",
        "      hasil4 = uang_saya - jml\n",
        "      print(\"===============================\")\n",
        "      print(\"Selamat Transaksi Anda Berhasil\")\n",
        "      print(\"Uang Anda Sekarang Berjumlah : \",hasil4)\n",
        "  else:\n",
        "    print(\"Keyword Anda Salah!\")\n",
        "elif opsi==3:\n",
        "  uang_saya = 300000\n",
        "  print(\"Uang berjumlah Rp300.000, Mau Menabung Berapa?\")\n",
        "  opsi3 = int(input(\"Masukkan Jumlah Uang Rp. \"))\n",
        "  hasil_nabung = uang_saya+opsi3\n",
        "  print(\"===============================\")\n",
        "  print(\"Jumlah Uang Kamu Sekarang Adalah Rp.\",hasil_nabung)\n",
        "else:\n",
        "  print(\"Keyword Anda Salah, Mohon Coba Lagi!\")\n",
        "print(\"===============================\")"
      ]
    }
  ]
}