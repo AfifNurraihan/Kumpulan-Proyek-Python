{
  "nbformat": 4,
  "nbformat_minor": 0,
  "metadata": {
    "colab": {
      "provenance": [],
      "collapsed_sections": [],
      "include_colab_link": true
    },
    "kernelspec": {
      "name": "python3",
      "display_name": "Python 3"
    },
    "language_info": {
      "name": "python"
    },
    "accelerator": "GPU"
  },
  "cells": [
    {
      "cell_type": "markdown",
      "metadata": {
        "id": "view-in-github",
        "colab_type": "text"
      },
      "source": [
        "<a href=\"https://colab.research.google.com/github/AfifNurraihan/Kumpulan-Proyek-Python/blob/main/Image_Classification_Model_Deployment_(Afif_Nurraihan).ipynb\" target=\"_parent\"><img src=\"https://colab.research.google.com/assets/colab-badge.svg\" alt=\"Open In Colab\"/></a>"
      ]
    },
    {
      "cell_type": "code",
      "source": [
        "!pip install -q Kaggle"
      ],
      "metadata": {
        "id": "eHqGtVEqUQ7l"
      },
      "execution_count": 1,
      "outputs": []
    },
    {
      "cell_type": "code",
      "source": [
        "from google.colab import files\n",
        "uploaded = files.upload()"
      ],
      "metadata": {
        "colab": {
          "base_uri": "https://localhost:8080/",
          "height": 73
        },
        "id": "6UjOA25QUsLH",
        "outputId": "a8ac43b5-c9fa-4e4e-96e8-09986c8413f7"
      },
      "execution_count": 2,
      "outputs": [
        {
          "output_type": "display_data",
          "data": {
            "text/plain": [
              "<IPython.core.display.HTML object>"
            ],
            "text/html": [
              "\n",
              "     <input type=\"file\" id=\"files-1878647b-be2f-491d-921e-8a4a6cb40f20\" name=\"files[]\" multiple disabled\n",
              "        style=\"border:none\" />\n",
              "     <output id=\"result-1878647b-be2f-491d-921e-8a4a6cb40f20\">\n",
              "      Upload widget is only available when the cell has been executed in the\n",
              "      current browser session. Please rerun this cell to enable.\n",
              "      </output>\n",
              "      <script>// Copyright 2017 Google LLC\n",
              "//\n",
              "// Licensed under the Apache License, Version 2.0 (the \"License\");\n",
              "// you may not use this file except in compliance with the License.\n",
              "// You may obtain a copy of the License at\n",
              "//\n",
              "//      http://www.apache.org/licenses/LICENSE-2.0\n",
              "//\n",
              "// Unless required by applicable law or agreed to in writing, software\n",
              "// distributed under the License is distributed on an \"AS IS\" BASIS,\n",
              "// WITHOUT WARRANTIES OR CONDITIONS OF ANY KIND, either express or implied.\n",
              "// See the License for the specific language governing permissions and\n",
              "// limitations under the License.\n",
              "\n",
              "/**\n",
              " * @fileoverview Helpers for google.colab Python module.\n",
              " */\n",
              "(function(scope) {\n",
              "function span(text, styleAttributes = {}) {\n",
              "  const element = document.createElement('span');\n",
              "  element.textContent = text;\n",
              "  for (const key of Object.keys(styleAttributes)) {\n",
              "    element.style[key] = styleAttributes[key];\n",
              "  }\n",
              "  return element;\n",
              "}\n",
              "\n",
              "// Max number of bytes which will be uploaded at a time.\n",
              "const MAX_PAYLOAD_SIZE = 100 * 1024;\n",
              "\n",
              "function _uploadFiles(inputId, outputId) {\n",
              "  const steps = uploadFilesStep(inputId, outputId);\n",
              "  const outputElement = document.getElementById(outputId);\n",
              "  // Cache steps on the outputElement to make it available for the next call\n",
              "  // to uploadFilesContinue from Python.\n",
              "  outputElement.steps = steps;\n",
              "\n",
              "  return _uploadFilesContinue(outputId);\n",
              "}\n",
              "\n",
              "// This is roughly an async generator (not supported in the browser yet),\n",
              "// where there are multiple asynchronous steps and the Python side is going\n",
              "// to poll for completion of each step.\n",
              "// This uses a Promise to block the python side on completion of each step,\n",
              "// then passes the result of the previous step as the input to the next step.\n",
              "function _uploadFilesContinue(outputId) {\n",
              "  const outputElement = document.getElementById(outputId);\n",
              "  const steps = outputElement.steps;\n",
              "\n",
              "  const next = steps.next(outputElement.lastPromiseValue);\n",
              "  return Promise.resolve(next.value.promise).then((value) => {\n",
              "    // Cache the last promise value to make it available to the next\n",
              "    // step of the generator.\n",
              "    outputElement.lastPromiseValue = value;\n",
              "    return next.value.response;\n",
              "  });\n",
              "}\n",
              "\n",
              "/**\n",
              " * Generator function which is called between each async step of the upload\n",
              " * process.\n",
              " * @param {string} inputId Element ID of the input file picker element.\n",
              " * @param {string} outputId Element ID of the output display.\n",
              " * @return {!Iterable<!Object>} Iterable of next steps.\n",
              " */\n",
              "function* uploadFilesStep(inputId, outputId) {\n",
              "  const inputElement = document.getElementById(inputId);\n",
              "  inputElement.disabled = false;\n",
              "\n",
              "  const outputElement = document.getElementById(outputId);\n",
              "  outputElement.innerHTML = '';\n",
              "\n",
              "  const pickedPromise = new Promise((resolve) => {\n",
              "    inputElement.addEventListener('change', (e) => {\n",
              "      resolve(e.target.files);\n",
              "    });\n",
              "  });\n",
              "\n",
              "  const cancel = document.createElement('button');\n",
              "  inputElement.parentElement.appendChild(cancel);\n",
              "  cancel.textContent = 'Cancel upload';\n",
              "  const cancelPromise = new Promise((resolve) => {\n",
              "    cancel.onclick = () => {\n",
              "      resolve(null);\n",
              "    };\n",
              "  });\n",
              "\n",
              "  // Wait for the user to pick the files.\n",
              "  const files = yield {\n",
              "    promise: Promise.race([pickedPromise, cancelPromise]),\n",
              "    response: {\n",
              "      action: 'starting',\n",
              "    }\n",
              "  };\n",
              "\n",
              "  cancel.remove();\n",
              "\n",
              "  // Disable the input element since further picks are not allowed.\n",
              "  inputElement.disabled = true;\n",
              "\n",
              "  if (!files) {\n",
              "    return {\n",
              "      response: {\n",
              "        action: 'complete',\n",
              "      }\n",
              "    };\n",
              "  }\n",
              "\n",
              "  for (const file of files) {\n",
              "    const li = document.createElement('li');\n",
              "    li.append(span(file.name, {fontWeight: 'bold'}));\n",
              "    li.append(span(\n",
              "        `(${file.type || 'n/a'}) - ${file.size} bytes, ` +\n",
              "        `last modified: ${\n",
              "            file.lastModifiedDate ? file.lastModifiedDate.toLocaleDateString() :\n",
              "                                    'n/a'} - `));\n",
              "    const percent = span('0% done');\n",
              "    li.appendChild(percent);\n",
              "\n",
              "    outputElement.appendChild(li);\n",
              "\n",
              "    const fileDataPromise = new Promise((resolve) => {\n",
              "      const reader = new FileReader();\n",
              "      reader.onload = (e) => {\n",
              "        resolve(e.target.result);\n",
              "      };\n",
              "      reader.readAsArrayBuffer(file);\n",
              "    });\n",
              "    // Wait for the data to be ready.\n",
              "    let fileData = yield {\n",
              "      promise: fileDataPromise,\n",
              "      response: {\n",
              "        action: 'continue',\n",
              "      }\n",
              "    };\n",
              "\n",
              "    // Use a chunked sending to avoid message size limits. See b/62115660.\n",
              "    let position = 0;\n",
              "    do {\n",
              "      const length = Math.min(fileData.byteLength - position, MAX_PAYLOAD_SIZE);\n",
              "      const chunk = new Uint8Array(fileData, position, length);\n",
              "      position += length;\n",
              "\n",
              "      const base64 = btoa(String.fromCharCode.apply(null, chunk));\n",
              "      yield {\n",
              "        response: {\n",
              "          action: 'append',\n",
              "          file: file.name,\n",
              "          data: base64,\n",
              "        },\n",
              "      };\n",
              "\n",
              "      let percentDone = fileData.byteLength === 0 ?\n",
              "          100 :\n",
              "          Math.round((position / fileData.byteLength) * 100);\n",
              "      percent.textContent = `${percentDone}% done`;\n",
              "\n",
              "    } while (position < fileData.byteLength);\n",
              "  }\n",
              "\n",
              "  // All done.\n",
              "  yield {\n",
              "    response: {\n",
              "      action: 'complete',\n",
              "    }\n",
              "  };\n",
              "}\n",
              "\n",
              "scope.google = scope.google || {};\n",
              "scope.google.colab = scope.google.colab || {};\n",
              "scope.google.colab._files = {\n",
              "  _uploadFiles,\n",
              "  _uploadFilesContinue,\n",
              "};\n",
              "})(self);\n",
              "</script> "
            ]
          },
          "metadata": {}
        },
        {
          "output_type": "stream",
          "name": "stdout",
          "text": [
            "Saving kaggle.json to kaggle.json\n"
          ]
        }
      ]
    },
    {
      "cell_type": "code",
      "source": [
        "!mkdir -p ~/.kaggle\n",
        "!mv kaggle.json ~/.kaggle\n",
        "!chmod 600 ~/.kaggle/kaggle.json"
      ],
      "metadata": {
        "id": "3QYQo9PyU8OJ"
      },
      "execution_count": 3,
      "outputs": []
    },
    {
      "cell_type": "code",
      "source": [
        "!kaggle datasets download -d puneet6060/intel-image-classification"
      ],
      "metadata": {
        "colab": {
          "base_uri": "https://localhost:8080/"
        },
        "id": "LPweOgjUVQX3",
        "outputId": "f3ce8b46-1d19-4aec-fc59-1f3a94c5a45c"
      },
      "execution_count": 4,
      "outputs": [
        {
          "output_type": "stream",
          "name": "stdout",
          "text": [
            "Downloading intel-image-classification.zip to /content\n",
            " 99% 343M/346M [00:03<00:00, 68.6MB/s]\n",
            "100% 346M/346M [00:04<00:00, 89.5MB/s]\n"
          ]
        }
      ]
    },
    {
      "cell_type": "code",
      "source": [
        "# Extract the zip file\n",
        "import zipfile,os\n",
        "local_zip = '/content/intel-image-classification.zip'\n",
        "zip_ref = zipfile.ZipFile(local_zip,'r')\n",
        "zip_ref.extractall('/content/')\n",
        "zip_ref.close()"
      ],
      "metadata": {
        "id": "rSVZjaJRVhYr"
      },
      "execution_count": 5,
      "outputs": []
    },
    {
      "cell_type": "code",
      "source": [
        "# View folder name in zip file\n",
        "viw_dir = '/content/seg_train'\n",
        "print(\"Names of the folders inside the zip file : \", os.listdir(viw_dir))"
      ],
      "metadata": {
        "colab": {
          "base_uri": "https://localhost:8080/"
        },
        "id": "eZV2_fP6WjJq",
        "outputId": "ddddee14-bc1f-4f5a-ab45-57e9ceac0aee"
      },
      "execution_count": 6,
      "outputs": [
        {
          "output_type": "stream",
          "name": "stdout",
          "text": [
            "Names of the folders inside the zip file :  ['seg_train']\n"
          ]
        }
      ]
    },
    {
      "cell_type": "code",
      "source": [
        "# Defining the rock, paper, and scissors image training folder \n",
        "data = os.path.join('/content/seg_train/seg_train')\n",
        "basis_dir = data"
      ],
      "metadata": {
        "id": "-LSVnWPSXR_J"
      },
      "execution_count": 17,
      "outputs": []
    },
    {
      "cell_type": "code",
      "execution_count": 18,
      "metadata": {
        "id": "v-Zgp6ugNobD"
      },
      "outputs": [],
      "source": [
        "import tensorflow as tf\n",
        "from tensorflow.keras.preprocessing.image import ImageDataGenerator\n",
        "from tensorflow.keras.applications import MobileNetV2\n",
        "from tensorflow.keras.layers import Input\n",
        "import numpy as np\n",
        "import matplotlib.pyplot as plt\n",
        "import pathlib"
      ]
    },
    {
      "cell_type": "code",
      "source": [
        "# Grouping data into Training Data and Validation Data\n",
        "from tensorflow.keras.preprocessing.image import ImageDataGenerator\n",
        "train_datagen = ImageDataGenerator(\n",
        "                    rescale=1.0/255,\n",
        "                    rotation_range=30,\n",
        "                    width_shift_range=0.2,\n",
        "                    height_shift_range=0.2,\n",
        "                    horizontal_flip=True,\n",
        "                    shear_range = 0.2,\n",
        "                    zoom_range = 0.2,\n",
        "                    fill_mode = 'nearest',\n",
        "                    validation_split=0.2)"
      ],
      "metadata": {
        "id": "dbjLer4uXyPR"
      },
      "execution_count": 19,
      "outputs": []
    },
    {
      "cell_type": "code",
      "source": [
        "# Data labeling using ImageDataGenerator by folder\n",
        "train_generator = train_datagen.flow_from_directory(\n",
        "        basis_dir,               \n",
        "        target_size=(150, 150),  # change the resolution of the whole image to 150x150 pixels\n",
        "        # as this is a class 6 classification problem then use class_mode = 'categorical'\n",
        "        class_mode='categorical',\n",
        "        shuffle=True,\n",
        "        subset='training')\n",
        "\n",
        "validation_generator= train_datagen.flow_from_directory(\n",
        "        basis_dir,\n",
        "        target_size=(150, 150), # change the resolution of the whole image to 150x150 pixels \n",
        "        # as this is a class 6 classification problem then use class_mode = 'categorical'\n",
        "        class_mode='categorical',\n",
        "        shuffle=True,\n",
        "        subset='validation')\n"
      ],
      "metadata": {
        "colab": {
          "base_uri": "https://localhost:8080/"
        },
        "id": "vZiy0dQRYQDj",
        "outputId": "509f0416-5e5c-4edb-fad2-0baaa25c4e48"
      },
      "execution_count": 20,
      "outputs": [
        {
          "output_type": "stream",
          "name": "stdout",
          "text": [
            "Found 11230 images belonging to 6 classes.\n",
            "Found 2804 images belonging to 6 classes.\n"
          ]
        }
      ]
    },
    {
      "cell_type": "code",
      "source": [
        "# Using Callback\n",
        "class myCallback(tf.keras.callbacks.Callback):\n",
        "  def on_epoch_end(self,epoch,logs={}):\n",
        "    if(logs.get('accuracy')>=0.86):\n",
        "      print(\"\\nStop Training because accuracy has reached 95%\")\n",
        "      self.model.stop_training= True\n",
        "callbacks = myCallback()"
      ],
      "metadata": {
        "id": "ENJo_a2ouzBB"
      },
      "execution_count": 23,
      "outputs": []
    },
    {
      "cell_type": "code",
      "source": [
        "# Building an artificial neural network model\n",
        "model = tf.keras.models.Sequential([\n",
        "    tf.keras.layers.Conv2D(64, (3,3), activation='relu', padding='same',input_shape=(150, 150, 3)),\n",
        "    tf.keras.layers.MaxPooling2D(2, 2),\n",
        "    tf.keras.layers.Dropout(0.25),\n",
        "    tf.keras.layers.Conv2D(32, (3,3), padding='same', activation='relu'),\n",
        "    tf.keras.layers.MaxPooling2D(2,2),\n",
        "    tf.keras.layers.Dropout(0.25),\n",
        "    tf.keras.layers.Flatten(),\n",
        "    tf.keras.layers.Dense(128, activation='relu'),\n",
        "    tf.keras.layers.Dense(6, activation='softmax')\n",
        "])"
      ],
      "metadata": {
        "id": "_eYvJHs0ufzx"
      },
      "execution_count": 24,
      "outputs": []
    },
    {
      "cell_type": "code",
      "source": [
        "num_epochs = 50 \n",
        "#optimizer = tf.optimizers.Adam()\n",
        "model.compile(optimizer='adam',\n",
        "              loss='categorical_crossentropy',\n",
        "              metrics=['accuracy'])\n",
        " \n",
        "history = model.fit(train_generator,epochs=num_epochs,validation_data=validation_generator,callbacks=[callbacks])"
      ],
      "metadata": {
        "colab": {
          "base_uri": "https://localhost:8080/"
        },
        "id": "hCQrW9_auqvU",
        "outputId": "7f289e3a-b967-4de3-d9f2-1a7067b31b98"
      },
      "execution_count": 25,
      "outputs": [
        {
          "output_type": "stream",
          "name": "stdout",
          "text": [
            "Epoch 1/50\n",
            "351/351 [==============================] - 81s 231ms/step - loss: 1.3235 - accuracy: 0.4666 - val_loss: 1.0279 - val_accuracy: 0.6070\n",
            "Epoch 2/50\n",
            "351/351 [==============================] - 79s 225ms/step - loss: 0.9656 - accuracy: 0.6337 - val_loss: 0.9056 - val_accuracy: 0.6626\n",
            "Epoch 3/50\n",
            "351/351 [==============================] - 80s 227ms/step - loss: 0.8727 - accuracy: 0.6701 - val_loss: 0.8988 - val_accuracy: 0.6512\n",
            "Epoch 4/50\n",
            "351/351 [==============================] - 79s 225ms/step - loss: 0.8251 - accuracy: 0.6952 - val_loss: 0.8016 - val_accuracy: 0.7161\n",
            "Epoch 5/50\n",
            "351/351 [==============================] - 79s 225ms/step - loss: 0.7939 - accuracy: 0.7051 - val_loss: 0.7745 - val_accuracy: 0.7136\n",
            "Epoch 6/50\n",
            "351/351 [==============================] - 80s 227ms/step - loss: 0.7589 - accuracy: 0.7190 - val_loss: 0.7395 - val_accuracy: 0.7361\n",
            "Epoch 7/50\n",
            "351/351 [==============================] - 79s 225ms/step - loss: 0.7329 - accuracy: 0.7272 - val_loss: 0.6862 - val_accuracy: 0.7504\n",
            "Epoch 8/50\n",
            "351/351 [==============================] - 80s 228ms/step - loss: 0.7099 - accuracy: 0.7358 - val_loss: 0.6995 - val_accuracy: 0.7504\n",
            "Epoch 9/50\n",
            "351/351 [==============================] - 79s 225ms/step - loss: 0.6762 - accuracy: 0.7490 - val_loss: 0.6663 - val_accuracy: 0.7500\n",
            "Epoch 10/50\n",
            "351/351 [==============================] - 79s 225ms/step - loss: 0.6718 - accuracy: 0.7575 - val_loss: 0.6793 - val_accuracy: 0.7611\n",
            "Epoch 11/50\n",
            "351/351 [==============================] - 80s 228ms/step - loss: 0.6413 - accuracy: 0.7657 - val_loss: 0.6553 - val_accuracy: 0.7657\n",
            "Epoch 12/50\n",
            "351/351 [==============================] - 79s 225ms/step - loss: 0.6461 - accuracy: 0.7606 - val_loss: 0.6807 - val_accuracy: 0.7468\n",
            "Epoch 13/50\n",
            "351/351 [==============================] - 79s 226ms/step - loss: 0.6412 - accuracy: 0.7639 - val_loss: 0.6012 - val_accuracy: 0.7867\n",
            "Epoch 14/50\n",
            "351/351 [==============================] - 80s 227ms/step - loss: 0.6286 - accuracy: 0.7704 - val_loss: 0.6260 - val_accuracy: 0.7650\n",
            "Epoch 15/50\n",
            "351/351 [==============================] - 79s 226ms/step - loss: 0.6125 - accuracy: 0.7784 - val_loss: 0.6047 - val_accuracy: 0.7814\n",
            "Epoch 16/50\n",
            "351/351 [==============================] - 85s 241ms/step - loss: 0.6097 - accuracy: 0.7733 - val_loss: 0.6573 - val_accuracy: 0.7593\n",
            "Epoch 17/50\n",
            "351/351 [==============================] - 79s 225ms/step - loss: 0.5903 - accuracy: 0.7825 - val_loss: 0.6604 - val_accuracy: 0.7543\n",
            "Epoch 18/50\n",
            "351/351 [==============================] - 79s 224ms/step - loss: 0.5946 - accuracy: 0.7815 - val_loss: 0.6267 - val_accuracy: 0.7739\n",
            "Epoch 19/50\n",
            "351/351 [==============================] - 80s 227ms/step - loss: 0.5754 - accuracy: 0.7834 - val_loss: 0.5893 - val_accuracy: 0.7921\n",
            "Epoch 20/50\n",
            "351/351 [==============================] - 79s 224ms/step - loss: 0.5878 - accuracy: 0.7855 - val_loss: 0.5992 - val_accuracy: 0.7739\n",
            "Epoch 21/50\n",
            "351/351 [==============================] - 79s 225ms/step - loss: 0.5709 - accuracy: 0.7931 - val_loss: 0.5912 - val_accuracy: 0.7860\n",
            "Epoch 22/50\n",
            "351/351 [==============================] - 80s 227ms/step - loss: 0.5709 - accuracy: 0.7886 - val_loss: 0.6059 - val_accuracy: 0.7903\n",
            "Epoch 23/50\n",
            "351/351 [==============================] - 79s 224ms/step - loss: 0.5556 - accuracy: 0.7954 - val_loss: 0.6009 - val_accuracy: 0.7917\n",
            "Epoch 24/50\n",
            "351/351 [==============================] - 80s 227ms/step - loss: 0.5596 - accuracy: 0.7927 - val_loss: 0.7187 - val_accuracy: 0.7496\n",
            "Epoch 25/50\n",
            "351/351 [==============================] - 79s 225ms/step - loss: 0.5592 - accuracy: 0.7945 - val_loss: 0.6236 - val_accuracy: 0.7821\n",
            "Epoch 26/50\n",
            "351/351 [==============================] - 79s 225ms/step - loss: 0.5517 - accuracy: 0.7962 - val_loss: 0.5665 - val_accuracy: 0.7946\n",
            "Epoch 27/50\n",
            "351/351 [==============================] - 80s 227ms/step - loss: 0.5430 - accuracy: 0.7964 - val_loss: 0.6121 - val_accuracy: 0.7825\n",
            "Epoch 28/50\n",
            "351/351 [==============================] - 79s 226ms/step - loss: 0.5382 - accuracy: 0.8009 - val_loss: 0.6610 - val_accuracy: 0.7614\n",
            "Epoch 29/50\n",
            "351/351 [==============================] - 79s 225ms/step - loss: 0.5365 - accuracy: 0.8056 - val_loss: 0.5774 - val_accuracy: 0.8021\n",
            "Epoch 30/50\n",
            "351/351 [==============================] - 79s 226ms/step - loss: 0.5380 - accuracy: 0.7995 - val_loss: 0.5702 - val_accuracy: 0.7857\n",
            "Epoch 31/50\n",
            "351/351 [==============================] - 79s 224ms/step - loss: 0.5318 - accuracy: 0.8063 - val_loss: 0.5540 - val_accuracy: 0.8063\n",
            "Epoch 32/50\n",
            "351/351 [==============================] - 79s 226ms/step - loss: 0.5246 - accuracy: 0.8094 - val_loss: 0.5441 - val_accuracy: 0.7949\n",
            "Epoch 33/50\n",
            "351/351 [==============================] - 80s 228ms/step - loss: 0.5301 - accuracy: 0.8060 - val_loss: 0.5919 - val_accuracy: 0.7857\n",
            "Epoch 34/50\n",
            "351/351 [==============================] - 80s 227ms/step - loss: 0.5273 - accuracy: 0.8082 - val_loss: 0.5872 - val_accuracy: 0.7953\n",
            "Epoch 35/50\n",
            "351/351 [==============================] - 81s 230ms/step - loss: 0.5245 - accuracy: 0.8084 - val_loss: 0.6135 - val_accuracy: 0.7760\n",
            "Epoch 36/50\n",
            "351/351 [==============================] - 79s 224ms/step - loss: 0.5191 - accuracy: 0.8094 - val_loss: 0.5939 - val_accuracy: 0.7924\n",
            "Epoch 37/50\n",
            "351/351 [==============================] - 80s 228ms/step - loss: 0.5173 - accuracy: 0.8086 - val_loss: 0.6122 - val_accuracy: 0.7864\n",
            "Epoch 38/50\n",
            "351/351 [==============================] - 80s 228ms/step - loss: 0.5148 - accuracy: 0.8092 - val_loss: 0.5851 - val_accuracy: 0.7910\n",
            "Epoch 39/50\n",
            "351/351 [==============================] - 80s 227ms/step - loss: 0.5111 - accuracy: 0.8140 - val_loss: 0.5505 - val_accuracy: 0.8006\n",
            "Epoch 40/50\n",
            "351/351 [==============================] - 80s 227ms/step - loss: 0.5165 - accuracy: 0.8118 - val_loss: 0.5812 - val_accuracy: 0.7924\n",
            "Epoch 41/50\n",
            "351/351 [==============================] - 80s 227ms/step - loss: 0.5049 - accuracy: 0.8130 - val_loss: 0.5439 - val_accuracy: 0.8067\n",
            "Epoch 42/50\n",
            "351/351 [==============================] - 79s 225ms/step - loss: 0.5208 - accuracy: 0.8089 - val_loss: 0.5519 - val_accuracy: 0.8003\n",
            "Epoch 43/50\n",
            "351/351 [==============================] - 80s 227ms/step - loss: 0.5013 - accuracy: 0.8157 - val_loss: 0.5275 - val_accuracy: 0.8156\n",
            "Epoch 44/50\n",
            "351/351 [==============================] - 79s 226ms/step - loss: 0.5018 - accuracy: 0.8190 - val_loss: 0.5583 - val_accuracy: 0.7960\n",
            "Epoch 45/50\n",
            "351/351 [==============================] - 79s 226ms/step - loss: 0.5012 - accuracy: 0.8150 - val_loss: 0.5347 - val_accuracy: 0.8156\n",
            "Epoch 46/50\n",
            "351/351 [==============================] - 80s 229ms/step - loss: 0.4993 - accuracy: 0.8167 - val_loss: 0.5562 - val_accuracy: 0.7964\n",
            "Epoch 47/50\n",
            "351/351 [==============================] - 79s 225ms/step - loss: 0.4944 - accuracy: 0.8174 - val_loss: 0.5860 - val_accuracy: 0.7871\n",
            "Epoch 48/50\n",
            "351/351 [==============================] - 78s 223ms/step - loss: 0.4941 - accuracy: 0.8191 - val_loss: 0.5375 - val_accuracy: 0.8063\n",
            "Epoch 49/50\n",
            "351/351 [==============================] - 80s 228ms/step - loss: 0.4900 - accuracy: 0.8212 - val_loss: 0.5785 - val_accuracy: 0.7953\n",
            "Epoch 50/50\n",
            "351/351 [==============================] - 79s 226ms/step - loss: 0.4925 - accuracy: 0.8171 - val_loss: 0.5855 - val_accuracy: 0.7932\n"
          ]
        }
      ]
    },
    {
      "cell_type": "code",
      "source": [
        "# Plot Accuracy\n",
        "plt.plot(history.history['accuracy'])\n",
        "plt.plot(history.history['val_accuracy'])\n",
        "plt.title('Model accuracy')\n",
        "plt.ylabel('Accuracy')\n",
        "plt.xlabel('Epoch')\n",
        "plt.legend(['Train','Validation'], loc='lower right')\n",
        "plt.show()"
      ],
      "metadata": {
        "colab": {
          "base_uri": "https://localhost:8080/",
          "height": 295
        },
        "id": "xUEzQCGM4iop",
        "outputId": "261b1151-e477-4387-bcd4-c34d46873409"
      },
      "execution_count": 30,
      "outputs": [
        {
          "output_type": "display_data",
          "data": {
            "text/plain": [
              "<Figure size 432x288 with 1 Axes>"
            ],
            "image/png": "[encoded data removed]"
          },
          "metadata": {
            "needs_background": "light"
          }
        }
      ]
    },
    {
      "cell_type": "code",
      "source": [
        "# Plot Loss\n",
        "import matplotlib.pyplot as plt\n",
        "plt.plot(history.history['loss'])\n",
        "plt.plot(history.history['val_loss'])\n",
        "plt.title('Model loss')\n",
        "plt.ylabel('Loss')\n",
        "plt.xlabel('Epoch')\n",
        "plt.legend(['Train','Validation'], loc='upper right')\n",
        "plt.show()"
      ],
      "metadata": {
        "colab": {
          "base_uri": "https://localhost:8080/",
          "height": 295
        },
        "id": "dr6Gk-sp4HVn",
        "outputId": "96c09518-b2f0-495a-b0be-d00c660a5e1d"
      },
      "execution_count": 33,
      "outputs": [
        {
          "output_type": "display_data",
          "data": {
            "text/plain": [
              "<Figure size 432x288 with 1 Axes>"
            ],
            "image/png": "[encoded data removed]"
          },
          "metadata": {
            "needs_background": "light"
          }
        }
      ]
    },
    {
      "cell_type": "code",
      "source": [
        "# Saving models into SavedModel format\n",
        "export_dir = 'saved_model/'\n",
        "tf.saved_model.save(model, export_dir)\n",
        " \n",
        "# Convert SavedModel to vegs.tflite\n",
        "converter = tf.lite.TFLiteConverter.from_saved_model(export_dir)\n",
        "tflite_model = converter.convert()\n",
        " \n",
        "tflite_model_file = pathlib.Path('vegs.tflite')\n",
        "tflite_model_file.write_bytes(tflite_model)"
      ],
      "metadata": {
        "colab": {
          "base_uri": "https://localhost:8080/"
        },
        "id": "Jr9NMJksOw_t",
        "outputId": "bc257ea1-ef14-45da-8275-b7357eb12f66"
      },
      "execution_count": 32,
      "outputs": [
        {
          "output_type": "stream",
          "name": "stderr",
          "text": [
            "WARNING:absl:Found untraced functions such as _jit_compiled_convolution_op, _jit_compiled_convolution_op while saving (showing 2 of 2). These functions will not be directly callable after loading.\n"
          ]
        },
        {
          "output_type": "execute_result",
          "data": {
            "text/plain": [
              "22517712"
            ]
          },
          "metadata": {},
          "execution_count": 32
        }
      ]
    }
  ]
}