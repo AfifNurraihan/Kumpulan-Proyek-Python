{
  "nbformat": 4,
  "nbformat_minor": 0,
  "metadata": {
    "colab": {
      "provenance": [],
      "authorship_tag": "ABX9TyOeesXod3A+cxaM1mHuedU1",
      "include_colab_link": true
    },
    "kernelspec": {
      "name": "python3",
      "display_name": "Python 3"
    },
    "language_info": {
      "name": "python"
    }
  },
  "cells": [
    {
      "cell_type": "markdown",
      "metadata": {
        "id": "view-in-github",
        "colab_type": "text"
      },
      "source": [
        "<a href=\"https://colab.research.google.com/github/AfifNurraihan/Kumpulan-Proyek-Python/blob/main/Vending_Machine_Minuman.ipynb\" target=\"_parent\"><img src=\"https://colab.research.google.com/assets/colab-badge.svg\" alt=\"Open In Colab\"/></a>"
      ]
    },
    {
      "cell_type": "code",
      "execution_count": 1,
      "metadata": {
        "colab": {
          "base_uri": "https://localhost:8080/"
        },
        "id": "I5TqAQ_ngBvg",
        "outputId": "a2afc8ad-2121-4a3a-f3ba-40a4a8f208d2"
      },
      "outputs": [
        {
          "output_type": "stream",
          "name": "stdout",
          "text": [
            "{'Freshtea': 3000, 'Fanta': 5000, 'Coca-cola': 6000, 'Ultra': 5500, 'Pulpy': 7000, 'GoodDay': 8000}\n"
          ]
        }
      ],
      "source": [
        "# Daftar Minuman\n",
        "water = {\n",
        "    'Freshtea' :3000,\n",
        "    'Fanta'    :5000,\n",
        "    'Coca-cola':6000,\n",
        "    'Ultra'    :5500,\n",
        "    'Pulpy'    :7000,\n",
        "    'GoodDay'  :8000\n",
        "}\n",
        "print(water)"
      ]
    },
    {
      "cell_type": "code",
      "source": [
        "# Vending Machine\n",
        "print('=============== Selamat Datang ===============')\n",
        "print('=========== Berikut Daftar Minuman ===========')\n",
        "for i in water:\n",
        "    print(\"Minuman :\",i ,\"\\t Harga : Rp\",water[i])\n",
        "print('==============================================')\n",
        "\n",
        "uang = int(input(\"Masukkan uang anda: Rp\"))\n",
        "print(\"Uang anda Rp\",uang)\n",
        "pil = input(\"Pilih Minuman : \")\n",
        "print('==============================================')\n",
        "if uang<water[pil]:\n",
        "    print(\"Maaf uang anda kurang\")\n",
        "elif uang==water[pil]:\n",
        "    print(\"Proses berhasil, silahkan ambil minuman anda\")\n",
        "    print(\"Terimakasih, Selamat Menikmati\")\n",
        "elif uang>water[pil]:\n",
        "    kmbl = uang-water[pil]\n",
        "    print(\"Proses berhasil, silahkan ambil minuman anda\")\n",
        "    print(\"Terimakasih, Selamat Menikmati\")\n",
        "    print('==============================================')\n",
        "    print(\"Uang kembalian anda Rp\",kmbl)\n",
        "else:\n",
        "    print(\"Maaf Error\")\n",
        "print('==============================================')"
      ],
      "metadata": {
        "colab": {
          "base_uri": "https://localhost:8080/"
        },
        "id": "WqNEa6IpgIjr",
        "outputId": "dd845dcd-3751-49fc-926d-52a656ff642d"
      },
      "execution_count": 2,
      "outputs": [
        {
          "output_type": "stream",
          "name": "stdout",
          "text": [
            "=============== Selamat Datang ===============\n",
            "=========== Berikut Daftar Minuman ===========\n",
            "Minuman : Freshtea \t Harga : Rp 3000\n",
            "Minuman : Fanta \t Harga : Rp 5000\n",
            "Minuman : Coca-cola \t Harga : Rp 6000\n",
            "Minuman : Ultra \t Harga : Rp 5500\n",
            "Minuman : Pulpy \t Harga : Rp 7000\n",
            "Minuman : GoodDay \t Harga : Rp 8000\n",
            "==============================================\n",
            "Masukkan uang anda: Rp10000\n",
            "Uang anda Rp 10000\n",
            "Pilih Minuman : Fanta\n",
            "==============================================\n",
            "Proses berhasil, silahkan ambil minuman anda\n",
            "Terimakasih, Selamat Menikmati\n",
            "==============================================\n",
            "Uang kembalian anda Rp 5000\n",
            "==============================================\n"
          ]
        }
      ]
    }
  ]
}