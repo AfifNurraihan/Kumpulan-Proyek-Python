{
  "nbformat": 4,
  "nbformat_minor": 0,
  "metadata": {
    "colab": {
      "provenance": [],
      "authorship_tag": "ABX9TyOTjC79priqvPk4MykrNsuW",
      "include_colab_link": true
    },
    "kernelspec": {
      "name": "python3",
      "display_name": "Python 3"
    },
    "language_info": {
      "name": "python"
    }
  },
  "cells": [
    {
      "cell_type": "markdown",
      "metadata": {
        "id": "view-in-github",
        "colab_type": "text"
      },
      "source": [
        "<a href=\"https://colab.research.google.com/github/AfifNurraihan/Kumpulan-Proyek-Python/blob/main/String_Manipulation_dengan_Python.ipynb\" target=\"_parent\"><img src=\"https://colab.research.google.com/assets/colab-badge.svg\" alt=\"Open In Colab\"/></a>"
      ]
    },
    {
      "cell_type": "code",
      "execution_count": 1,
      "metadata": {
        "colab": {
          "base_uri": "https://localhost:8080/"
        },
        "id": "4AJWlkHfMd3r",
        "outputId": "a4f634e2-66e7-4e9c-b709-fd279dc134db"
      },
      "outputs": [
        {
          "output_type": "stream",
          "name": "stdout",
          "text": [
            "SanDal PaK\n",
            "SanDal \n",
            "PaK\n",
            "10\n"
          ]
        }
      ],
      "source": [
        "nama_produk = \"Sandal Pak Ustadz\"\n",
        "nama_produk = nama_produk[:3] + \"D\" + nama_produk[4:9] + \"K\"\n",
        "print(nama_produk)\n",
        "print(nama_produk[:7])\n",
        "print(nama_produk[7:])\n",
        "print(len(nama_produk))"
      ]
    },
    {
      "cell_type": "markdown",
      "source": [
        "**Operator “+” untuk Tipe Data String**\n",
        "\n",
        ">Setelah aku mempelajari String Manipulation, sekarang aku beralih ke Operator +. Operator + pada dua string akan secara otomatis menggabungkan kedua string tersebut. Operator + juga dapat digunakan untuk menambahkan beberapa string secara bersamaan."
      ],
      "metadata": {
        "id": "8J7dA6OTNZh4"
      }
    },
    {
      "cell_type": "code",
      "source": [
        "nama_depan = 'John'\n",
        "nama_belakang = 'Lenon'\n",
        "nama_lengkap = nama_depan + ' ' + nama_belakang\n",
        "print(nama_lengkap)\n",
        "\n",
        "umur = '30 tahun'\n",
        "alamat = 'Jl. Dr Wahid Hasyim No. 88'\n",
        "nama_umur_alamat = 'Hi, saya ' + nama_lengkap + ' umur ' + umur + ', tinggal di ' + alamat + '.'\n",
        "print(nama_umur_alamat)"
      ],
      "metadata": {
        "colab": {
          "base_uri": "https://localhost:8080/"
        },
        "id": "jjmN1XiWNZCi",
        "outputId": "f8ee6661-7d48-4867-846e-9e70e09bc2e7"
      },
      "execution_count": 2,
      "outputs": [
        {
          "output_type": "stream",
          "name": "stdout",
          "text": [
            "John Lenon\n",
            "Hi, saya John Lenon umur 30 tahun, tinggal di Jl. Dr Wahid Hasyim No. 88.\n"
          ]
        }
      ]
    },
    {
      "cell_type": "markdown",
      "source": [
        "**Menghilangkan Spasi di Awal dan/atau di Akhir**"
      ],
      "metadata": {
        "id": "OcPcRCozNui9"
      }
    },
    {
      "cell_type": "code",
      "source": [
        "# Fitur .strip() -> Menghilangkan kelebihan spasi pada awal dan akhir string.\n",
        "print(\">>> Fitur .strip()\")\n",
        "kata_sambutan = ' halo, selamat malam! '\n",
        "kata_sambutan = kata_sambutan.strip()\n",
        "print(kata_sambutan)\n",
        "\n",
        "# Fitur .lstrip() -> Menghilangkan kelebihan spasi pada awal string.\n",
        "print(\">>> Fitur .lstrip()\")\n",
        "kata_sambutan = ' halo, selamat malam! '\n",
        "kata_sambutan = kata_sambutan.lstrip()\n",
        "print(kata_sambutan)\n",
        "\n",
        "# Fitur .rstrip() -> Menghilangkan kelebihan spasi pada akhir string.\n",
        "print(\">>> Fitur .rstrip()\")\n",
        "kata_sambutan = ' halo, selamat malam! '\n",
        "kata_sambutan = kata_sambutan.rstrip()\n",
        "print(kata_sambutan)"
      ],
      "metadata": {
        "colab": {
          "base_uri": "https://localhost:8080/"
        },
        "id": "Ua0opy82NhuI",
        "outputId": "2bff4ed1-c852-47b3-fd2b-9ee09d037f2b"
      },
      "execution_count": 3,
      "outputs": [
        {
          "output_type": "stream",
          "name": "stdout",
          "text": [
            ">>> Fitur .strip()\n",
            "halo, selamat malam!\n",
            ">>> Fitur .lstrip()\n",
            "halo, selamat malam! \n",
            ">>> Fitur .rstrip()\n",
            " halo, selamat malam!\n"
          ]
        }
      ]
    },
    {
      "cell_type": "markdown",
      "source": [
        "**Merubah Caps pada String**"
      ],
      "metadata": {
        "id": "b6h1WrevSslw"
      }
    },
    {
      "cell_type": "code",
      "source": [
        "# Fitur .capitalize() -> \tMengubah elemen pertama dari string menjadi huruf kapital.\n",
        "print(\">>> Fitur .capitalize()\")\n",
        "judul_buku = 'belajar bahasa Python Yuk'\n",
        "print(judul_buku.capitalize())\n",
        "\n",
        "# Fitur .lower() -> Mengubah seluruh huruf dalam teks (string) menjadi huruf kecil\n",
        "print(\">>> Fitur .lower()\")\n",
        "judul_buku = 'Belajar Bahasa PYTHON Yuk.'\n",
        "print(judul_buku.lower())\n",
        "\n",
        "# Fitur .upper() -> Mengubah seluruh huruf dalam teks (string) menjadi huruf besar\n",
        "print(\">>> Fitur .upper()\")\n",
        "judul_buku = 'Belajar Bahasa PYTHON Yuk.'\n",
        "print(judul_buku.upper())"
      ],
      "metadata": {
        "colab": {
          "base_uri": "https://localhost:8080/"
        },
        "id": "PG-I7g82N0Dp",
        "outputId": "eb5b5f45-1df2-4b43-b134-f01dcecd5ab3"
      },
      "execution_count": 4,
      "outputs": [
        {
          "output_type": "stream",
          "name": "stdout",
          "text": [
            ">>> Fitur .capitalize()\n",
            "Belajar bahasa python yuk\n",
            ">>> Fitur .lower()\n",
            "belajar bahasa python yuk.\n",
            ">>> Fitur .upper()\n",
            "BELAJAR BAHASA PYTHON YUK.\n"
          ]
        }
      ]
    },
    {
      "cell_type": "markdown",
      "source": [
        "**Pemecahan, Penggabungan, dan Penggantian String**"
      ],
      "metadata": {
        "id": "EatrzR2PTNRK"
      }
    },
    {
      "cell_type": "code",
      "source": [
        "# Fitur .split() ->\tMemecah sebuah string berdasarkan string lainnya ke dalam sebuah list.\n",
        "print(\">>> Fitur .split()\")\n",
        "frasa = \"septi dan hari dan maripal dan prasdito\"\n",
        "karakter = frasa.split(\"dan\")\n",
        "print(karakter)\n",
        "kata = frasa.split(\" \")\n",
        "print(kata)\n",
        "\n",
        "# Fitur .join() -> Menggabungkan sebuah list yang berisikan string berdasarkan sebuah string yang telah didefinisikan.\n",
        "print(\">>> Fitur .join()\")\n",
        "pemisah = \" dan \"\n",
        "karakter = [\"Ricky\", \"Sambo\", \"Iksan\"]\n",
        "frasa = pemisah.join(karakter)\n",
        "print(frasa)\n",
        "frasa = \" \".join(karakter)\n",
        "print(frasa)\n",
        "\n",
        "# Fitur .replace()-> Menggantikan kemunculan suatu string tertentu dengan string lainnya dalam sebuah string\n",
        "print(\">>> Fitur .replace()\")\n",
        "frasa = \"kucing ras kucing yang paling lucu, kucing cantik, kucing bagus\"\n",
        "frasa = frasa.replace(\"kucing\", \"anjing\")\n",
        "print(frasa)"
      ],
      "metadata": {
        "colab": {
          "base_uri": "https://localhost:8080/"
        },
        "id": "9iCz-SPJTOhT",
        "outputId": "e1cb4bff-7811-434c-f70b-3ed3eefde5cf"
      },
      "execution_count": 5,
      "outputs": [
        {
          "output_type": "stream",
          "name": "stdout",
          "text": [
            ">>> Fitur .split()\n",
            "['septi ', ' hari ', ' maripal ', ' prasdito']\n",
            "['septi', 'dan', 'hari', 'dan', 'maripal', 'dan', 'prasdito']\n",
            ">>> Fitur .join()\n",
            "Ricky dan Sambo dan Iksan\n",
            "Ricky Sambo Iksan\n",
            ">>> Fitur .replace()\n",
            "anjing ras anjing yang paling lucu, anjing cantik, anjing bagus\n"
          ]
        }
      ]
    },
    {
      "cell_type": "markdown",
      "source": [
        "**Menentukan Posisi dan Jumlah Sub-string pada String**"
      ],
      "metadata": {
        "id": "5HhhhjOCjBMQ"
      }
    },
    {
      "cell_type": "code",
      "source": [
        "teks = \"Kucing ras adalah kucing tercantik dibanding kucing-kucing lainnya\"\n",
        "\n",
        "# Fitur .find() -> Mengembalikan posisi dari sebuah teks (sub-string) lainnya dalam sebuah string\n",
        "print(\">>> Fitur .find()\")\n",
        "print(teks.find(\"Kucing\"))\n",
        "print(teks.find(\"ras\"))\n",
        "\n",
        "# Fitur .count() -> Menghitung jumlah kemunculan sebuah teks (string) lainnya dalam suatu string (string yang dicari bersifat case sensitive).\n",
        "print(\">>> Fitur .count()\")\n",
        "kemunculan_kata_apel = teks.count(\"kucing\")\n",
        "print(kemunculan_kata_apel)"
      ],
      "metadata": {
        "id": "ACSGlDc0TmUB",
        "colab": {
          "base_uri": "https://localhost:8080/"
        },
        "outputId": "2f3baba8-4de8-45a6-ebec-920340272115"
      },
      "execution_count": 6,
      "outputs": [
        {
          "output_type": "stream",
          "name": "stdout",
          "text": [
            ">>> Fitur .find()\n",
            "0\n",
            "7\n",
            ">>> Fitur .count()\n",
            "3\n"
          ]
        }
      ]
    },
    {
      "cell_type": "markdown",
      "source": [
        "**Menentukan String Apakah Diawali/Diakhiri oleh Sub-string**"
      ],
      "metadata": {
        "id": "i8aM2jUrjg75"
      }
    },
    {
      "cell_type": "code",
      "source": [
        "# Fitur .startswith() -> Mengembalikan nilai kebenaran True ketika sebuah teks (string) diawali dengan sebuah teks lainnya.\n",
        "print(\">>> Fitur .startswith()\")\n",
        "teks = \"Kucing ras adalah kucing tercantik dibanding kucing-kucing lainnya\"\n",
        "print(teks.startswith(\"Kucing\"))\n",
        "print(teks.startswith(\"kucing\"))\n",
        "\n",
        "# Fitur .endswith() -> Mengembalikan nilai kebenaran True ketika sebuah teks (string) diakhiri dengan sebuah teks lainnya.\n",
        "print(\">>> Fitur .endswith()\")\n",
        "print(teks.endswith(\"lainnya\"))\n",
        "print(teks.endswith(\"kucing\"))"
      ],
      "metadata": {
        "id": "EFA2TwNajjiH",
        "colab": {
          "base_uri": "https://localhost:8080/"
        },
        "outputId": "f6477ba8-5a46-4de6-92b5-ed65524e1a5f"
      },
      "execution_count": 7,
      "outputs": [
        {
          "output_type": "stream",
          "name": "stdout",
          "text": [
            ">>> Fitur .startswith()\n",
            "True\n",
            "False\n",
            ">>> Fitur .endswith()\n",
            "True\n",
            "False\n"
          ]
        }
      ]
    },
    {
      "cell_type": "markdown",
      "source": [
        "**Tugas Praktek**\n",
        "\n",
        ">Aku mengecek ponsel. Sejak kukirimkan progress latihanku terakhir pada Senja, belum ada kabar lagi sampai saat ini. Senja memang tiba-tiba pergi dari mejanya tadi. Sedikit bosan, aku coba membuka-buka dokumen di laptop. Aku menemukan folder “LATIHAN” dan teringat kalau ada satu latihan kecil yang belum kukerjakan. “Mumpung lagi lowong, aku coba deh.”\n",
        "\n",
        ">Aku mengeklik dokumen PENGOLAHAN DATA TEKS. Di dalamnya aku diminta untuk meneliti popularitas antara buah salak dan buah jeruk berdasarkan judul artikel yang muncul di majalah Buah Sehat. Aku mulai menyiapkan susunan kodeku: \n",
        "\n",
        "    judul_artikel = [\"Buah Salak Baik untuk Mata\", \"Buah Salak Kaya Potasium\", \"Buah Jeruk Kaya Vitamin C\", \"Buah Salak Kaya Manfaat\", \"Salak Baik untuk Jantung\", \"Jeruk dapat Memperkuat Tulang\", \"Jeruk Mencegah Penyakit Asma\", \"Jeruk Memperkuat Gigi\", \"Jeruk Mencegah Kolesterol Jahat\", \"Salak Mencegah Diabetes\", \"Salak Memperkuat Dinding Usus\", \"Salak Baik untuk Darah\",\"Jeruk Kaya Manfaat untuk Jantung\", \"Salak si Kecil yang Baik\", \"Jeruk dan Salak Buah Kaya Manfaat\", \"Buah Jeruk Enak\",\"Tips Panen Jeruk Ribuan Kilo\", \"Tips Bertanam Salak\", \"Salak Manis untuk Berbuka\", \"Jeruk Baik untuk Wajah\"]"
      ],
      "metadata": {
        "id": "6ppcz4iwj3eq"
      }
    },
    {
      "cell_type": "code",
      "source": [
        "judul_artikel = [\n",
        "\"Buah Salak Baik untuk Mata\", \"Buah Salak Kaya Potasium\", \n",
        "\"Buah Jeruk Kaya Vitamin C\", \"Buah Salak Kaya Manfaat\", \n",
        "\"Salak Baik untuk Jantung\", \"Jeruk dapat Memperkuat Tulang\", \n",
        "\"Jeruk Mencegah Penyakit Asma\", \"Jeruk Memperkuat Gigi\", \n",
        "\"Jeruk Mencegah Kolesterol Jahat\", \"Salak Mencegah Diabetes\", \n",
        "\"Salak Memperkuat Dinding Usus\", \"Salak Baik untuk Darah\",\n",
        "\"Jeruk Kaya Manfaat untuk Jantung\", \"Salak si Kecil yang Baik\", \n",
        "\"Jeruk dan Salak Buah Kaya Manfaat\", \"Buah Jeruk Enak\",\n",
        "\"Tips Panen Jeruk Ribuan Kilo\", \"Tips Bertanam Salak\", \n",
        "\"Salak Manis untuk Berbuka\", \"Jeruk Baik untuk Wajah\"\n",
        "]\n",
        "jumlah_artikel_jeruk = 0\n",
        "jumlah_artikel_salak = 0\n",
        "for judul in judul_artikel:\n",
        "    if judul.count(\"Jeruk\") > 0: \n",
        "        jumlah_artikel_jeruk += 1\n",
        "    if judul.count(\"Salak\") > 0: \n",
        "        jumlah_artikel_salak += 1\n",
        "print('Jumlah artikel berisikan kata jeruk adalah ', jumlah_artikel_jeruk) \n",
        "print('Jumlah artikel berisikan kata jeruk adalah ',jumlah_artikel_salak)"
      ],
      "metadata": {
        "colab": {
          "base_uri": "https://localhost:8080/"
        },
        "id": "WXNPmtckkK_8",
        "outputId": "eb9b1145-642b-4f93-cb2e-a72b8dcf83ae"
      },
      "execution_count": 8,
      "outputs": [
        {
          "output_type": "stream",
          "name": "stdout",
          "text": [
            "Jumlah artikel berisikan kata jeruk adalah  10\n",
            "Jumlah artikel berisikan kata jeruk adalah  11\n"
          ]
        }
      ]
    },
    {
      "cell_type": "markdown",
      "source": [
        "**Tugas Praktek**\n",
        "\n",
        ">Setelah selesai menghitung jumlah kemunculan kata, aku mencoba berpikir dari sudut pandang si pemilik majalah. Kalau aku jadi mereka, tentunya aku juga ingin tahu apakah kata yang muncul itu bermuatan positif atau tidak. Nah ini!"
      ],
      "metadata": {
        "id": "z0vpSRCNkZ5X"
      }
    },
    {
      "cell_type": "code",
      "source": [
        "judul_artikel = [\n",
        "\"Buah Salak Baik untuk Mata\", \"Buah Salak Kaya Potasium\", \n",
        "\"Buah Jeruk Kaya Vitamin C\", \"Buah Salak Kaya Manfaat\", \n",
        "\"Salak Baik untuk Jantung\", \"Jeruk dapat Memperkuat Tulang\", \n",
        "\"Jeruk Mencegah Penyakit Asma\", \"Jeruk Memperkuat Gigi\", \n",
        "\"Jeruk Mencegah Kolesterol Jahat\", \"Salak Mencegah Diabetes\", \n",
        "\"Salak Memperkuat Dinding Usus\", \"Salak Baik untuk Darah\",\n",
        "\"Jeruk Kaya Manfaat untuk Jantung\", \"Salak si Kecil yang Baik\", \n",
        "\"Jeruk dan Salak Buah Kaya Manfaat\", \"Buah Jeruk Enak\",\n",
        "\"Tips Panen Jeruk Ribuan Kilo\", \"Tips Bertanam Salak\", \n",
        "\"Salak Manis untuk Berbuka\", \"Jeruk Baik untuk Wajah\"\n",
        "]\n",
        "\n",
        "kata_positif = [\"Kaya\", \"Baik\", \"Mencegah\", \"Memperkuat\"]\n",
        "kata_positif_jeruk = 0\n",
        "kata_positif_salak = 0\n",
        "for judul in judul_artikel: \n",
        "    for kata in kata_positif:\n",
        "        if judul.count(\"Jeruk\") > 0 and judul.count(kata) > 0: \n",
        "            kata_positif_jeruk += 1\n",
        "        if judul.count(\"Salak\") > 0 and judul.count(kata) > 0: \n",
        "            kata_positif_salak += 1\n",
        "print(\"Jumlah judul artikel positif tentang jeruk : \", kata_positif_jeruk) \n",
        "print(\"Jumlah judul artikel positif tentang salak : \", kata_positif_salak)"
      ],
      "metadata": {
        "id": "lohzjox2kdxH",
        "outputId": "957b7db0-1bcd-4bfc-ee12-417842f8f86f",
        "colab": {
          "base_uri": "https://localhost:8080/"
        }
      },
      "execution_count": 9,
      "outputs": [
        {
          "output_type": "stream",
          "name": "stdout",
          "text": [
            "Jumlah judul artikel positif tentang jeruk :  8\n",
            "Jumlah judul artikel positif tentang salak :  9\n"
          ]
        }
      ]
    }
  ]
}